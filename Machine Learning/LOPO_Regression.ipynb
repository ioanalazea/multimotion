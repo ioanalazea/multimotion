{
  "cells": [
    {
      "cell_type": "markdown",
      "metadata": {
        "id": "KLflQLUFKIz0"
      },
      "source": [
        "In this notebook: for **each modality** using simple **Linear Regression** and testing multiple fusion models."
      ]
    },
    {
      "cell_type": "markdown",
      "metadata": {
        "id": "SWI2UEhqJzwZ"
      },
      "source": [
        "Mounting drive:"
      ]
    },
    {
      "cell_type": "code",
      "execution_count": null,
      "metadata": {
        "colab": {
          "base_uri": "https://localhost:8080/"
        },
        "id": "Q2X6wcr2JxIP",
        "outputId": "76daa598-0542-4ccc-8d46-ad8b643cad30"
      },
      "outputs": [
        {
          "name": "stdout",
          "output_type": "stream",
          "text": [
            "Mounted at /content/drive\n"
          ]
        }
      ],
      "source": [
        "from google.colab import drive\n",
        "drive.mount('/content/drive')"
      ]
    },
    {
      "cell_type": "markdown",
      "metadata": {
        "id": "ELB9Pd78ESwh"
      },
      "source": [
        "# Imports"
      ]
    },
    {
      "cell_type": "code",
      "execution_count": null,
      "metadata": {
        "id": "L5Rk7OwaD-Gi"
      },
      "outputs": [],
      "source": [
        "import os\n",
        "import pandas as pd\n",
        "import numpy as np\n",
        "from sklearn.linear_model import LinearRegression, Ridge\n",
        "from sklearn.ensemble import GradientBoostingRegressor\n",
        "from sklearn.svm import SVR\n",
        "from sklearn.ensemble import RandomForestRegressor\n",
        "from sklearn.preprocessing import MinMaxScaler\n",
        "from sklearn.model_selection import train_test_split\n",
        "from sklearn.metrics import r2_score, root_mean_squared_error\n",
        "from scipy.stats import pearsonr\n",
        "import statsmodels.api as sm"
      ]
    },
    {
      "cell_type": "code",
      "execution_count": null,
      "metadata": {
        "id": "yykVBwcMM9Zd"
      },
      "outputs": [],
      "source": [
        "full_video_directory = r\"/content/drive/MyDrive/Data-Multimotion/Features-NEW/Full\"\n",
        "intervals_directory = r\"/content/drive/MyDrive/Data-Multimotion/Features-NEW/Intervals\"\n",
        "ground_truth_directory = r\"/content/drive/MyDrive/Data-Multimotion/Ground truth\"\n",
        "results_directory = r\"/content/drive/MyDrive/Data-Multimotion/Results\""
      ]
    },
    {
      "cell_type": "markdown",
      "metadata": {
        "id": "n73Ok6SBSTlj"
      },
      "source": [
        "# Data"
      ]
    },
    {
      "cell_type": "code",
      "execution_count": null,
      "metadata": {
        "id": "0jNJdG9u2Uad"
      },
      "outputs": [],
      "source": [
        "# List of videos used\n",
        "videos = [\n",
        "     \"HN_1\",\n",
        "     \"HN_2_H\",\n",
        "     \"HN_4\",\n",
        "     \"HN_5\",\n",
        "     \"HN_6\",\n",
        "     \"LP_3\",\n",
        "     \"LP_4\",\n",
        "     \"LP_6\",\n",
        "     \"LN_1\",\n",
        "     \"LN_2\",\n",
        "     \"LN_3\",\n",
        "     \"LN_4\",\n",
        "     \"LN_5\",\n",
        "     \"LN_6\",\n",
        "     \"LN_7_N\",\n",
        "     \"LN_9\",\n",
        "     \"HP_1_L\",\n",
        "     \"HP_2\",\n",
        "     \"HP_3_L\",\n",
        "     \"HP_4\",\n",
        "     \"HP_6\",\n",
        "     \"HP_7_H\",\n",
        "     \"HN_3_H\",\n",
        "     \"HN_9\",\n",
        "     \"HN_7\",\n",
        "     \"LP_1\",\n",
        "     \"LP_2\",\n",
        "     \"LP_5\",\n",
        "    \"LP_7\",\n",
        "     \"LP_9\",\n",
        "    \"HP_5\",\n",
        "     \"HP_9\",\n",
        "     \"HN_2_L\",\n",
        "     \"HN_3_L\",\n",
        "     \"HP_1_H\",\n",
        "    \"HP_3_H\",\n",
        "     \"HP_7_L\",\n",
        "     \"LN_7_P\"]"
      ]
    },
    {
      "cell_type": "code",
      "execution_count": null,
      "metadata": {
        "id": "WaI9MAm_9j8x"
      },
      "outputs": [],
      "source": [
        "# FER Intervals - loading the csv\n",
        "df_fer = pd.read_csv(os.path.join(intervals_directory, \"FER_features.csv\"))"
      ]
    },
    {
      "cell_type": "markdown",
      "metadata": {
        "id": "PR8Wme34QEgm"
      },
      "source": [
        "I have to remove participants who don't have FER at all (this is because if they did not have FER in the raw files, I would just put NANs for all videos when doing feature extraction)."
      ]
    },
    {
      "cell_type": "code",
      "execution_count": null,
      "metadata": {
        "colab": {
          "base_uri": "https://localhost:8080/"
        },
        "id": "OdXE9GGxMcWU",
        "outputId": "8a7f1f6b-c148-4edc-d390-097d49f4306e"
      },
      "outputs": [
        {
          "name": "stdout",
          "output_type": "stream",
          "text": [
            "Number of participants removed: 5\n",
            "Participants removed:\n",
            "['7yqP3', 'GHft8', 'WYuvqk', 'XPI3pA', 'h2yD5h']\n"
          ]
        }
      ],
      "source": [
        "# Columns to exclude from NaN check\n",
        "exclude_cols = ['participant', 'video']\n",
        "\n",
        "# Feature columns to check for NaNs\n",
        "feature_cols = [col for col in df_fer.columns if col not in exclude_cols]\n",
        "\n",
        "# Group by participant and check if all their feature values are NaN\n",
        "participants_to_remove = df_fer.groupby('participant')[feature_cols].apply(\n",
        "    lambda x: x.isna().all(axis=1).all()\n",
        ")\n",
        "\n",
        "# Filtering participant IDs to remove\n",
        "participants_to_remove = participants_to_remove[participants_to_remove].index.tolist()\n",
        "\n",
        "# Remove those participants from the DataFrame\n",
        "df_fer_cleaned = df_fer[~df_fer['participant'].isin(participants_to_remove)]\n",
        "\n",
        "# Showing results\n",
        "print(f\"Number of participants removed: {len(participants_to_remove)}\")\n",
        "print(\"Participants removed:\")\n",
        "print(participants_to_remove)\n",
        "\n",
        "# Reassigning the df\n",
        "df_fer = df_fer_cleaned"
      ]
    },
    {
      "cell_type": "code",
      "execution_count": null,
      "metadata": {
        "id": "ovlkjhGu9kEB"
      },
      "outputs": [],
      "source": [
        "# PUPIL Intervals - Loading the csv\n",
        "df_pupil = pd.read_csv(os.path.join(intervals_directory, \"Pupil_size.csv\"))"
      ]
    },
    {
      "cell_type": "code",
      "execution_count": null,
      "metadata": {
        "colab": {
          "base_uri": "https://localhost:8080/"
        },
        "id": "33ojLVtGQ-X4",
        "outputId": "58fada1e-7bbf-46c1-9c11-e2b898a5ba00"
      },
      "outputs": [
        {
          "name": "stdout",
          "output_type": "stream",
          "text": [
            "Number of participants removed: 1\n",
            "Participants removed:\n",
            "['Fyt7d']\n"
          ]
        }
      ],
      "source": [
        "# Group by participant and check if all Pupil_size values are NaN\n",
        "participants_to_remove = df_pupil.groupby('participant')[\"Pupil_size\"].apply(\n",
        "    lambda x: x.isna().all()\n",
        ")\n",
        "\n",
        "# Get list of participants to remove\n",
        "participants_to_remove = participants_to_remove[participants_to_remove].index.tolist()\n",
        "\n",
        "# Remove those participants from the DataFrame\n",
        "df_pupil_cleaned = df_pupil[~df_pupil['participant'].isin(participants_to_remove)]\n",
        "\n",
        "# Show results\n",
        "print(f\"Number of participants removed: {len(participants_to_remove)}\")\n",
        "print(\"Participants removed:\")\n",
        "print(participants_to_remove)\n",
        "\n",
        "df_pupil = df_pupil_cleaned"
      ]
    },
    {
      "cell_type": "code",
      "execution_count": null,
      "metadata": {
        "id": "4pYH4ulF9kLI"
      },
      "outputs": [],
      "source": [
        "# GSR Full videos - Loading the csv\n",
        "df_gsr_full = pd.read_csv(os.path.join(full_video_directory, \"gsr_features.csv\"))\n",
        "df_gsr_full.rename(columns={\"ParticipantID\": \"participant\", \"StimulusName\": \"video\"}, inplace=True)\n"
      ]
    },
    {
      "cell_type": "code",
      "execution_count": null,
      "metadata": {
        "id": "A4DPuknh9kOG"
      },
      "outputs": [],
      "source": [
        "# GSR Intervals - Loading the csv\n",
        "df_gsr_intervals = pd.read_csv(os.path.join(intervals_directory, \"gsr_features_intervals.csv\"))\n",
        "df_gsr_intervals.rename(columns={\"ParticipantID\": \"participant\", \"StimulusName\": \"video\"}, inplace=True)\n"
      ]
    },
    {
      "cell_type": "markdown",
      "metadata": {
        "id": "eipZQgoqxc8r"
      },
      "source": [
        "Some participants that were not removed do not have all 38 videos so I am filtering to keep only those that have same umber of videos for all features."
      ]
    },
    {
      "cell_type": "code",
      "execution_count": null,
      "metadata": {
        "id": "H_3U_Log940N"
      },
      "outputs": [],
      "source": [
        "participant_col = 'participant'\n",
        "video_col = 'video'\n",
        "\n",
        "def participants_with_all_videos(df):\n",
        "    \"\"\" Filter participants that do not have all videos in the dataset. \"\"\"\n",
        "    # Keep only rows with videos\n",
        "    df_filtered = df[df[video_col].isin(videos)]\n",
        "\n",
        "    # Count number of unique videos per participant\n",
        "    counts = df_filtered.groupby(participant_col)[video_col].nunique()\n",
        "\n",
        "    # Participants who have all videos (equal to the length of videos list)\n",
        "    return counts[counts == len(videos)].index\n",
        "\n",
        "# Find participants with all videos in each dataframe\n",
        "participants_fer = participants_with_all_videos(df_fer)\n",
        "participants_pupil = participants_with_all_videos(df_pupil)\n",
        "participants_gsr = participants_with_all_videos(df_gsr_full)\n",
        "\n",
        "# Find intersection of participants across all three dataframes\n",
        "common_participants = set(participants_fer) & set(participants_pupil) & set(participants_gsr)\n",
        "\n",
        "# Filtering each dataframe to keep only common participants and videos\n",
        "df_fer_filtered = df_fer[(df_fer[participant_col].isin(common_participants)) & (df_fer[video_col].isin(videos))]\n",
        "df_pupil_filtered = df_pupil[(df_pupil[participant_col].isin(common_participants)) & (df_pupil[video_col].isin(videos))]\n",
        "df_gsr_filtered = df_gsr_full[(df_gsr_full[participant_col].isin(common_participants)) & (df_gsr_full[video_col].isin(videos))]\n",
        "\n",
        "# Merge the dataframes on participant_id and video with inner joins\n",
        "merged_1 = df_fer_filtered.merge(df_pupil_filtered, on=[participant_col, video_col], how='inner')\n",
        "df = merged_1.merge(df_gsr_filtered, on=[participant_col, video_col], how='inner')\n",
        "\n",
        "# Store original feature sets (excluding participant and video columns)\n",
        "fer_features = [col for col in df_fer_filtered.columns if col not in [participant_col, video_col]]\n",
        "pupil_features = [col for col in df_pupil_filtered.columns if col not in [participant_col, video_col]]\n",
        "gsr_features = [col for col in df_gsr_filtered.columns if col not in [participant_col, video_col]]"
      ]
    },
    {
      "cell_type": "code",
      "execution_count": null,
      "metadata": {
        "colab": {
          "base_uri": "https://localhost:8080/"
        },
        "id": "k4_gq9_jBGRm",
        "outputId": "ab0838b9-2eec-44fa-9aa9-cd982dd29a72"
      },
      "outputs": [
        {
          "data": {
            "application/vnd.google.colaboratory.intrinsic+json": {
              "type": "dataframe",
              "variable_name": "df"
            },
            "text/html": [
              "\n",
              "  <div id=\"df-1f4bbefd-7ec3-44ce-a005-f313c3e4927c\" class=\"colab-df-container\">\n",
              "    <div>\n",
              "<style scoped>\n",
              "    .dataframe tbody tr th:only-of-type {\n",
              "        vertical-align: middle;\n",
              "    }\n",
              "\n",
              "    .dataframe tbody tr th {\n",
              "        vertical-align: top;\n",
              "    }\n",
              "\n",
              "    .dataframe thead th {\n",
              "        text-align: right;\n",
              "    }\n",
              "</style>\n",
              "<table border=\"1\" class=\"dataframe\">\n",
              "  <thead>\n",
              "    <tr style=\"text-align: right;\">\n",
              "      <th></th>\n",
              "      <th>participant</th>\n",
              "      <th>video</th>\n",
              "      <th>FER_Mean_Valence</th>\n",
              "      <th>FER_Mean_Arousal</th>\n",
              "      <th>FER_Std_Valence</th>\n",
              "      <th>FER_Std_Arousal</th>\n",
              "      <th>FER_Kurtosis_Valence</th>\n",
              "      <th>FER_Kurtosis_Arousal</th>\n",
              "      <th>FER_Max_Valence</th>\n",
              "      <th>FER_Max_Arousal</th>\n",
              "      <th>...</th>\n",
              "      <th>skewMFCC_3</th>\n",
              "      <th>skewMFCC_4</th>\n",
              "      <th>skewMFCC_5</th>\n",
              "      <th>skewMFCC_6</th>\n",
              "      <th>skewMFCC_7</th>\n",
              "      <th>skewMFCC_8</th>\n",
              "      <th>skewMFCC_9</th>\n",
              "      <th>skewMFCC_10</th>\n",
              "      <th>skewMFCC_11</th>\n",
              "      <th>skewMFCC_12</th>\n",
              "    </tr>\n",
              "  </thead>\n",
              "  <tbody>\n",
              "    <tr>\n",
              "      <th>0</th>\n",
              "      <td>F5tXL</td>\n",
              "      <td>LP_6</td>\n",
              "      <td>0.000952</td>\n",
              "      <td>-0.000626</td>\n",
              "      <td>0.000541</td>\n",
              "      <td>0.000835</td>\n",
              "      <td>4.019652</td>\n",
              "      <td>19.588990</td>\n",
              "      <td>0.003014</td>\n",
              "      <td>-0.000161</td>\n",
              "      <td>...</td>\n",
              "      <td>0.695944</td>\n",
              "      <td>0.764121</td>\n",
              "      <td>0.790389</td>\n",
              "      <td>0.795862</td>\n",
              "      <td>0.789622</td>\n",
              "      <td>0.777750</td>\n",
              "      <td>0.762914</td>\n",
              "      <td>0.747217</td>\n",
              "      <td>0.731438</td>\n",
              "      <td>0.716298</td>\n",
              "    </tr>\n",
              "    <tr>\n",
              "      <th>1</th>\n",
              "      <td>F5tXL</td>\n",
              "      <td>LN_1</td>\n",
              "      <td>0.001459</td>\n",
              "      <td>-0.002051</td>\n",
              "      <td>0.001544</td>\n",
              "      <td>0.003596</td>\n",
              "      <td>9.711684</td>\n",
              "      <td>10.133371</td>\n",
              "      <td>0.010409</td>\n",
              "      <td>-0.000118</td>\n",
              "      <td>...</td>\n",
              "      <td>0.362375</td>\n",
              "      <td>0.005245</td>\n",
              "      <td>0.029354</td>\n",
              "      <td>-0.062371</td>\n",
              "      <td>-0.070456</td>\n",
              "      <td>-0.111330</td>\n",
              "      <td>-0.124169</td>\n",
              "      <td>-0.149200</td>\n",
              "      <td>-0.161704</td>\n",
              "      <td>-0.179115</td>\n",
              "    </tr>\n",
              "    <tr>\n",
              "      <th>2</th>\n",
              "      <td>F5tXL</td>\n",
              "      <td>LP_5</td>\n",
              "      <td>0.192954</td>\n",
              "      <td>0.566484</td>\n",
              "      <td>0.036930</td>\n",
              "      <td>0.212372</td>\n",
              "      <td>3.386188</td>\n",
              "      <td>2.554266</td>\n",
              "      <td>0.346534</td>\n",
              "      <td>0.773791</td>\n",
              "      <td>...</td>\n",
              "      <td>0.670047</td>\n",
              "      <td>0.719782</td>\n",
              "      <td>0.756339</td>\n",
              "      <td>0.783775</td>\n",
              "      <td>0.803970</td>\n",
              "      <td>0.819082</td>\n",
              "      <td>0.830339</td>\n",
              "      <td>0.838862</td>\n",
              "      <td>0.845317</td>\n",
              "      <td>0.850206</td>\n",
              "    </tr>\n",
              "    <tr>\n",
              "      <th>3</th>\n",
              "      <td>F5tXL</td>\n",
              "      <td>HP_3_L</td>\n",
              "      <td>0.107633</td>\n",
              "      <td>0.322872</td>\n",
              "      <td>0.129906</td>\n",
              "      <td>0.394061</td>\n",
              "      <td>-1.289344</td>\n",
              "      <td>-1.739915</td>\n",
              "      <td>0.409336</td>\n",
              "      <td>0.906473</td>\n",
              "      <td>...</td>\n",
              "      <td>0.809794</td>\n",
              "      <td>0.681817</td>\n",
              "      <td>0.595605</td>\n",
              "      <td>0.523772</td>\n",
              "      <td>0.467364</td>\n",
              "      <td>0.421189</td>\n",
              "      <td>0.385459</td>\n",
              "      <td>0.356580</td>\n",
              "      <td>0.334364</td>\n",
              "      <td>0.316736</td>\n",
              "    </tr>\n",
              "    <tr>\n",
              "      <th>4</th>\n",
              "      <td>F5tXL</td>\n",
              "      <td>HP_3_H</td>\n",
              "      <td>0.256877</td>\n",
              "      <td>0.735755</td>\n",
              "      <td>0.049578</td>\n",
              "      <td>0.130069</td>\n",
              "      <td>-1.112521</td>\n",
              "      <td>-1.058543</td>\n",
              "      <td>0.356418</td>\n",
              "      <td>0.881853</td>\n",
              "      <td>...</td>\n",
              "      <td>0.949351</td>\n",
              "      <td>0.968432</td>\n",
              "      <td>1.024748</td>\n",
              "      <td>1.070044</td>\n",
              "      <td>1.112122</td>\n",
              "      <td>1.144947</td>\n",
              "      <td>1.173121</td>\n",
              "      <td>1.195324</td>\n",
              "      <td>1.214095</td>\n",
              "      <td>1.229331</td>\n",
              "    </tr>\n",
              "  </tbody>\n",
              "</table>\n",
              "<p>5 rows × 153 columns</p>\n",
              "</div>\n",
              "    <div class=\"colab-df-buttons\">\n",
              "\n",
              "  <div class=\"colab-df-container\">\n",
              "    <button class=\"colab-df-convert\" onclick=\"convertToInteractive('df-1f4bbefd-7ec3-44ce-a005-f313c3e4927c')\"\n",
              "            title=\"Convert this dataframe to an interactive table.\"\n",
              "            style=\"display:none;\">\n",
              "\n",
              "  <svg xmlns=\"http://www.w3.org/2000/svg\" height=\"24px\" viewBox=\"0 -960 960 960\">\n",
              "    <path d=\"M120-120v-720h720v720H120Zm60-500h600v-160H180v160Zm220 220h160v-160H400v160Zm0 220h160v-160H400v160ZM180-400h160v-160H180v160Zm440 0h160v-160H620v160ZM180-180h160v-160H180v160Zm440 0h160v-160H620v160Z\"/>\n",
              "  </svg>\n",
              "    </button>\n",
              "\n",
              "  <style>\n",
              "    .colab-df-container {\n",
              "      display:flex;\n",
              "      gap: 12px;\n",
              "    }\n",
              "\n",
              "    .colab-df-convert {\n",
              "      background-color: #E8F0FE;\n",
              "      border: none;\n",
              "      border-radius: 50%;\n",
              "      cursor: pointer;\n",
              "      display: none;\n",
              "      fill: #1967D2;\n",
              "      height: 32px;\n",
              "      padding: 0 0 0 0;\n",
              "      width: 32px;\n",
              "    }\n",
              "\n",
              "    .colab-df-convert:hover {\n",
              "      background-color: #E2EBFA;\n",
              "      box-shadow: 0px 1px 2px rgba(60, 64, 67, 0.3), 0px 1px 3px 1px rgba(60, 64, 67, 0.15);\n",
              "      fill: #174EA6;\n",
              "    }\n",
              "\n",
              "    .colab-df-buttons div {\n",
              "      margin-bottom: 4px;\n",
              "    }\n",
              "\n",
              "    [theme=dark] .colab-df-convert {\n",
              "      background-color: #3B4455;\n",
              "      fill: #D2E3FC;\n",
              "    }\n",
              "\n",
              "    [theme=dark] .colab-df-convert:hover {\n",
              "      background-color: #434B5C;\n",
              "      box-shadow: 0px 1px 3px 1px rgba(0, 0, 0, 0.15);\n",
              "      filter: drop-shadow(0px 1px 2px rgba(0, 0, 0, 0.3));\n",
              "      fill: #FFFFFF;\n",
              "    }\n",
              "  </style>\n",
              "\n",
              "    <script>\n",
              "      const buttonEl =\n",
              "        document.querySelector('#df-1f4bbefd-7ec3-44ce-a005-f313c3e4927c button.colab-df-convert');\n",
              "      buttonEl.style.display =\n",
              "        google.colab.kernel.accessAllowed ? 'block' : 'none';\n",
              "\n",
              "      async function convertToInteractive(key) {\n",
              "        const element = document.querySelector('#df-1f4bbefd-7ec3-44ce-a005-f313c3e4927c');\n",
              "        const dataTable =\n",
              "          await google.colab.kernel.invokeFunction('convertToInteractive',\n",
              "                                                    [key], {});\n",
              "        if (!dataTable) return;\n",
              "\n",
              "        const docLinkHtml = 'Like what you see? Visit the ' +\n",
              "          '<a target=\"_blank\" href=https://colab.research.google.com/notebooks/data_table.ipynb>data table notebook</a>'\n",
              "          + ' to learn more about interactive tables.';\n",
              "        element.innerHTML = '';\n",
              "        dataTable['output_type'] = 'display_data';\n",
              "        await google.colab.output.renderOutput(dataTable, element);\n",
              "        const docLink = document.createElement('div');\n",
              "        docLink.innerHTML = docLinkHtml;\n",
              "        element.appendChild(docLink);\n",
              "      }\n",
              "    </script>\n",
              "  </div>\n",
              "\n",
              "\n",
              "    <div id=\"df-fbd3942c-dc93-463a-a568-9dd85b91331b\">\n",
              "      <button class=\"colab-df-quickchart\" onclick=\"quickchart('df-fbd3942c-dc93-463a-a568-9dd85b91331b')\"\n",
              "                title=\"Suggest charts\"\n",
              "                style=\"display:none;\">\n",
              "\n",
              "<svg xmlns=\"http://www.w3.org/2000/svg\" height=\"24px\"viewBox=\"0 0 24 24\"\n",
              "     width=\"24px\">\n",
              "    <g>\n",
              "        <path d=\"M19 3H5c-1.1 0-2 .9-2 2v14c0 1.1.9 2 2 2h14c1.1 0 2-.9 2-2V5c0-1.1-.9-2-2-2zM9 17H7v-7h2v7zm4 0h-2V7h2v10zm4 0h-2v-4h2v4z\"/>\n",
              "    </g>\n",
              "</svg>\n",
              "      </button>\n",
              "\n",
              "<style>\n",
              "  .colab-df-quickchart {\n",
              "      --bg-color: #E8F0FE;\n",
              "      --fill-color: #1967D2;\n",
              "      --hover-bg-color: #E2EBFA;\n",
              "      --hover-fill-color: #174EA6;\n",
              "      --disabled-fill-color: #AAA;\n",
              "      --disabled-bg-color: #DDD;\n",
              "  }\n",
              "\n",
              "  [theme=dark] .colab-df-quickchart {\n",
              "      --bg-color: #3B4455;\n",
              "      --fill-color: #D2E3FC;\n",
              "      --hover-bg-color: #434B5C;\n",
              "      --hover-fill-color: #FFFFFF;\n",
              "      --disabled-bg-color: #3B4455;\n",
              "      --disabled-fill-color: #666;\n",
              "  }\n",
              "\n",
              "  .colab-df-quickchart {\n",
              "    background-color: var(--bg-color);\n",
              "    border: none;\n",
              "    border-radius: 50%;\n",
              "    cursor: pointer;\n",
              "    display: none;\n",
              "    fill: var(--fill-color);\n",
              "    height: 32px;\n",
              "    padding: 0;\n",
              "    width: 32px;\n",
              "  }\n",
              "\n",
              "  .colab-df-quickchart:hover {\n",
              "    background-color: var(--hover-bg-color);\n",
              "    box-shadow: 0 1px 2px rgba(60, 64, 67, 0.3), 0 1px 3px 1px rgba(60, 64, 67, 0.15);\n",
              "    fill: var(--button-hover-fill-color);\n",
              "  }\n",
              "\n",
              "  .colab-df-quickchart-complete:disabled,\n",
              "  .colab-df-quickchart-complete:disabled:hover {\n",
              "    background-color: var(--disabled-bg-color);\n",
              "    fill: var(--disabled-fill-color);\n",
              "    box-shadow: none;\n",
              "  }\n",
              "\n",
              "  .colab-df-spinner {\n",
              "    border: 2px solid var(--fill-color);\n",
              "    border-color: transparent;\n",
              "    border-bottom-color: var(--fill-color);\n",
              "    animation:\n",
              "      spin 1s steps(1) infinite;\n",
              "  }\n",
              "\n",
              "  @keyframes spin {\n",
              "    0% {\n",
              "      border-color: transparent;\n",
              "      border-bottom-color: var(--fill-color);\n",
              "      border-left-color: var(--fill-color);\n",
              "    }\n",
              "    20% {\n",
              "      border-color: transparent;\n",
              "      border-left-color: var(--fill-color);\n",
              "      border-top-color: var(--fill-color);\n",
              "    }\n",
              "    30% {\n",
              "      border-color: transparent;\n",
              "      border-left-color: var(--fill-color);\n",
              "      border-top-color: var(--fill-color);\n",
              "      border-right-color: var(--fill-color);\n",
              "    }\n",
              "    40% {\n",
              "      border-color: transparent;\n",
              "      border-right-color: var(--fill-color);\n",
              "      border-top-color: var(--fill-color);\n",
              "    }\n",
              "    60% {\n",
              "      border-color: transparent;\n",
              "      border-right-color: var(--fill-color);\n",
              "    }\n",
              "    80% {\n",
              "      border-color: transparent;\n",
              "      border-right-color: var(--fill-color);\n",
              "      border-bottom-color: var(--fill-color);\n",
              "    }\n",
              "    90% {\n",
              "      border-color: transparent;\n",
              "      border-bottom-color: var(--fill-color);\n",
              "    }\n",
              "  }\n",
              "</style>\n",
              "\n",
              "      <script>\n",
              "        async function quickchart(key) {\n",
              "          const quickchartButtonEl =\n",
              "            document.querySelector('#' + key + ' button');\n",
              "          quickchartButtonEl.disabled = true;  // To prevent multiple clicks.\n",
              "          quickchartButtonEl.classList.add('colab-df-spinner');\n",
              "          try {\n",
              "            const charts = await google.colab.kernel.invokeFunction(\n",
              "                'suggestCharts', [key], {});\n",
              "          } catch (error) {\n",
              "            console.error('Error during call to suggestCharts:', error);\n",
              "          }\n",
              "          quickchartButtonEl.classList.remove('colab-df-spinner');\n",
              "          quickchartButtonEl.classList.add('colab-df-quickchart-complete');\n",
              "        }\n",
              "        (() => {\n",
              "          let quickchartButtonEl =\n",
              "            document.querySelector('#df-fbd3942c-dc93-463a-a568-9dd85b91331b button');\n",
              "          quickchartButtonEl.style.display =\n",
              "            google.colab.kernel.accessAllowed ? 'block' : 'none';\n",
              "        })();\n",
              "      </script>\n",
              "    </div>\n",
              "\n",
              "    </div>\n",
              "  </div>\n"
            ],
            "text/plain": [
              "  participant   video  FER_Mean_Valence  FER_Mean_Arousal  FER_Std_Valence  \\\n",
              "0       F5tXL    LP_6          0.000952         -0.000626         0.000541   \n",
              "1       F5tXL    LN_1          0.001459         -0.002051         0.001544   \n",
              "2       F5tXL    LP_5          0.192954          0.566484         0.036930   \n",
              "3       F5tXL  HP_3_L          0.107633          0.322872         0.129906   \n",
              "4       F5tXL  HP_3_H          0.256877          0.735755         0.049578   \n",
              "\n",
              "   FER_Std_Arousal  FER_Kurtosis_Valence  FER_Kurtosis_Arousal  \\\n",
              "0         0.000835              4.019652             19.588990   \n",
              "1         0.003596              9.711684             10.133371   \n",
              "2         0.212372              3.386188              2.554266   \n",
              "3         0.394061             -1.289344             -1.739915   \n",
              "4         0.130069             -1.112521             -1.058543   \n",
              "\n",
              "   FER_Max_Valence  FER_Max_Arousal  ...  skewMFCC_3  skewMFCC_4  skewMFCC_5  \\\n",
              "0         0.003014        -0.000161  ...    0.695944    0.764121    0.790389   \n",
              "1         0.010409        -0.000118  ...    0.362375    0.005245    0.029354   \n",
              "2         0.346534         0.773791  ...    0.670047    0.719782    0.756339   \n",
              "3         0.409336         0.906473  ...    0.809794    0.681817    0.595605   \n",
              "4         0.356418         0.881853  ...    0.949351    0.968432    1.024748   \n",
              "\n",
              "   skewMFCC_6  skewMFCC_7  skewMFCC_8  skewMFCC_9  skewMFCC_10  skewMFCC_11  \\\n",
              "0    0.795862    0.789622    0.777750    0.762914     0.747217     0.731438   \n",
              "1   -0.062371   -0.070456   -0.111330   -0.124169    -0.149200    -0.161704   \n",
              "2    0.783775    0.803970    0.819082    0.830339     0.838862     0.845317   \n",
              "3    0.523772    0.467364    0.421189    0.385459     0.356580     0.334364   \n",
              "4    1.070044    1.112122    1.144947    1.173121     1.195324     1.214095   \n",
              "\n",
              "   skewMFCC_12  \n",
              "0     0.716298  \n",
              "1    -0.179115  \n",
              "2     0.850206  \n",
              "3     0.316736  \n",
              "4     1.229331  \n",
              "\n",
              "[5 rows x 153 columns]"
            ]
          },
          "execution_count": 26,
          "metadata": {},
          "output_type": "execute_result"
        }
      ],
      "source": [
        "df.head()"
      ]
    },
    {
      "cell_type": "code",
      "execution_count": null,
      "metadata": {
        "colab": {
          "base_uri": "https://localhost:8080/"
        },
        "id": "E4Cu9AvsLq6Y",
        "outputId": "bbb8120e-bae5-4621-e6ab-c1cb591739ea"
      },
      "outputs": [
        {
          "name": "stdout",
          "output_type": "stream",
          "text": [
            "Number of unique participants: 36\n",
            "\n",
            "Videos per participant (summary):\n",
            "count    36.0\n",
            "mean     38.0\n",
            "std       0.0\n",
            "min      38.0\n",
            "25%      38.0\n",
            "50%      38.0\n",
            "75%      38.0\n",
            "max      38.0\n",
            "Name: video, dtype: float64\n",
            "participant\n",
            "4FoNM      38\n",
            "5KB3V      38\n",
            "6GSd4      38\n",
            "8vDRG      38\n",
            "9FGka      38\n",
            "CoQmx      38\n",
            "Cr1sTi     38\n",
            "D9Hh9      38\n",
            "EJOiBs     38\n",
            "EXAMPLE    38\n",
            "F5tXL      38\n",
            "F8mDn      38\n",
            "Fjil72     38\n",
            "G4Egk      38\n",
            "G5XzoP     38\n",
            "Gax8       38\n",
            "Gftw5      38\n",
            "Hx7dO      38\n",
            "KWgkc      38\n",
            "KoG5ii     38\n",
            "LR96S      38\n",
            "M4t7k      38\n",
            "NMy2s      38\n",
            "O1pGR      38\n",
            "PPjCX      38\n",
            "Pi9803     38\n",
            "VckNZ      38\n",
            "WQzBV      38\n",
            "XhsN0o     38\n",
            "gf5X       38\n",
            "gjGzb      38\n",
            "hMHEK1     38\n",
            "tMGNS      38\n",
            "urJvc      38\n",
            "wohkw      38\n",
            "yb3T2      38\n",
            "Name: video, dtype: int64\n"
          ]
        }
      ],
      "source": [
        "# Count unique participants\n",
        "num_participants = df['participant'].nunique()\n",
        "print(f\"Number of unique participants: {num_participants}\")\n",
        "\n",
        "# Count number of videos per participant\n",
        "videos_per_participant = df.groupby('participant')['video'].nunique()\n",
        "\n",
        "# Display summary statistics\n",
        "print(\"\\nVideos per participant (summary):\")\n",
        "print(videos_per_participant.describe())\n",
        "\n",
        "# Full list of how many videos each participant has\n",
        "print(videos_per_participant.sort_values())"
      ]
    },
    {
      "cell_type": "markdown",
      "metadata": {
        "id": "idtMlvss-z8L"
      },
      "source": [
        "### Loading ground truth"
      ]
    },
    {
      "cell_type": "code",
      "execution_count": null,
      "metadata": {
        "id": "Z60638qe_aPa"
      },
      "outputs": [],
      "source": [
        "# Load full ground truth (this is done only once)\n",
        "gt_full_set = pd.read_csv(os.path.join(ground_truth_directory, \"individual_ground_truth.csv\"))\n",
        "\n",
        "# Renaming so it is the same as FER and Pupil\n",
        "gt_full_set.rename(columns={\"Participant\": \"participant\", \"Stimulus_Name\": \"video\"}, inplace=True)"
      ]
    },
    {
      "cell_type": "code",
      "execution_count": null,
      "metadata": {
        "id": "XE87nxcY6gdz"
      },
      "outputs": [],
      "source": [
        "def load_ground_truth_exclude(participant_id):\n",
        "    \"\"\" Function to load ground truth file for excluding one participant for Leave One Participant Out. \"\"\"\n",
        "\n",
        "    # Load the ground truth file excluding this participant\n",
        "    file_path = os.path.join(ground_truth_directory + f\"/Leave-one-out/individual_ground_truth_no_{participant_id}.csv\")\n",
        "\n",
        "    gt_df = pd.read_csv(file_path)\n",
        "    return gt_df"
      ]
    },
    {
      "cell_type": "markdown",
      "metadata": {
        "id": "SSp0PUNXH7Hp"
      },
      "source": [
        "# Arousal"
      ]
    },
    {
      "cell_type": "code",
      "execution_count": null,
      "metadata": {
        "colab": {
          "base_uri": "https://localhost:8080/"
        },
        "id": "3pVZO3VZJA5F",
        "outputId": "dc3d5531-3028-475a-bf74-4064666edb84"
      },
      "outputs": [
        {
          "name": "stdout",
          "output_type": "stream",
          "text": [
            "participant         0\n",
            "video               0\n",
            "FER_Mean_Valence    0\n",
            "FER_Mean_Arousal    0\n",
            "FER_Std_Valence     0\n",
            "                   ..\n",
            "skewMFCC_8          0\n",
            "skewMFCC_9          0\n",
            "skewMFCC_10         0\n",
            "skewMFCC_11         0\n",
            "skewMFCC_12         0\n",
            "Length: 153, dtype: int64\n"
          ]
        }
      ],
      "source": [
        "# Check for NaN values in thes numeric feature columns\n",
        "print(df.isnull().sum())"
      ]
    },
    {
      "cell_type": "code",
      "execution_count": null,
      "metadata": {
        "id": "KKqFeenOLSWc"
      },
      "outputs": [],
      "source": [
        "df['FER_Min_Valence'] = 0"
      ]
    },
    {
      "cell_type": "markdown",
      "metadata": {
        "id": "_8m4N5Ejaqng"
      },
      "source": [
        "### Each model performance"
      ]
    },
    {
      "cell_type": "markdown",
      "metadata": {
        "id": "5Qf_uT6ffoM8"
      },
      "source": [
        "First, I want to see how each model performs:"
      ]
    },
    {
      "cell_type": "code",
      "execution_count": null,
      "metadata": {
        "colab": {
          "base_uri": "https://localhost:8080/"
        },
        "id": "FzS5vR649_bI",
        "outputId": "0e856795-3bad-4752-8856-401348ef8a6e"
      },
      "outputs": [
        {
          "name": "stdout",
          "output_type": "stream",
          "text": [
            "\n",
            "=== FINAL METRICS ===\n",
            "FER   -> NRMSE: 0.2507, R²: 0.0008, Corr: 0.1036, p: 0.0001228\n",
            "Pupil -> NRMSE: 0.2304, R²: 0.1563, Corr: 0.3954, p: 2.08e-52\n",
            "GSR   -> NRMSE: 0.5279, R²: -3.4283, Corr: 0.1956, p: 2.87e-13\n"
          ]
        }
      ],
      "source": [
        "participants = df['participant'].unique()\n",
        "\n",
        "# Lists to append the metrics\n",
        "fer_nrmse, fer_r2, fer_corr, fer_p = [], [], [], []\n",
        "pupil_nrmse, pupil_r2, pupil_corr, pupil_p = [], [], [], []\n",
        "gsr_nrmse, gsr_r2, gsr_corr, gsr_p = [], [], [], []\n",
        "\n",
        "# Final predictions lists\n",
        "true_all, pred_fer_all, pred_pupil_all, pred_gsr_all = [], [], [], []\n",
        "\n",
        "for test_pid in participants:\n",
        "    # Get the test participant data\n",
        "    test_data = df[df['participant'] == test_pid].copy()\n",
        "\n",
        "    # Use full GT for test participant\n",
        "    test_gt = gt_full_set[gt_full_set['participant'] == test_pid]\n",
        "    test_data = test_data.merge(test_gt[['participant', 'video', 'Arousal']], on=['participant', 'video'], how='inner')\n",
        "\n",
        "    train_data = df[df['participant'] != test_pid].copy()\n",
        "\n",
        "    # Loading the GT excluding the test participant\n",
        "    pid_gt = load_ground_truth_exclude(test_pid)\n",
        "    pid_gt.rename(columns={\"Participant\": \"participant\", \"Stimulus_Name\": \"video\"}, inplace=True)\n",
        "\n",
        "    # Merging the train data with GT\n",
        "    train_data = train_data.merge(pid_gt[['participant', 'video', 'Arousal']], on=['participant', 'video'], how='inner')\n",
        "\n",
        "    non_feature_cols = ['participant', 'video']\n",
        "    feature_cols = df_fer.drop(columns=non_feature_cols).select_dtypes(include=[np.number]).columns.tolist()\n",
        "\n",
        "    # FER\n",
        "    X_fer = train_data[fer_features]\n",
        "    y_fer = train_data['Arousal']\n",
        "    X_fer_test = test_data[fer_features]\n",
        "    y_fer_test = test_data['Arousal']\n",
        "\n",
        "    # Train FER model\n",
        "    model_fer = LinearRegression()\n",
        "    model_fer.fit(X_fer, y_fer)\n",
        "    test_preds_fer = model_fer.predict(X_fer_test)\n",
        "\n",
        "    # Pupil\n",
        "    X_pupil = train_data[pupil_features]\n",
        "    y_pupil = train_data['Arousal']\n",
        "    X_pupil_test = test_data[pupil_features]\n",
        "    y_pupil_test = test_data['Arousal']\n",
        "\n",
        "    # Train Pupil model\n",
        "    model_pupil = LinearRegression()\n",
        "    model_pupil.fit(X_pupil, y_pupil)\n",
        "    test_preds_pupil = model_pupil.predict(X_pupil_test)\n",
        "\n",
        "    # GSR\n",
        "    X_gsr = train_data[gsr_features]\n",
        "    y_gsr = train_data['Arousal']\n",
        "    X_gsr_test = test_data[gsr_features]\n",
        "    y_gsr_test = test_data['Arousal']\n",
        "\n",
        "    # Train GSR model\n",
        "    model_gsr = LinearRegression()\n",
        "    model_gsr.fit(X_gsr, y_gsr)\n",
        "    test_preds_gsr = model_gsr.predict(X_gsr_test)\n",
        "\n",
        "     # Final predictions and true values\n",
        "    true_all.extend(y_fer_test.values)\n",
        "    pred_fer_all.extend(test_preds_fer)\n",
        "    pred_pupil_all.extend(test_preds_pupil)\n",
        "    pred_gsr_all.extend(test_preds_gsr)\n",
        "\n",
        "    # Metrics for FER\n",
        "    range_fer = y_fer_test.max() - y_fer_test.min()\n",
        "    fer_nrmse.append(root_mean_squared_error(y_fer_test, test_preds_fer) / range_fer)\n",
        "    fer_r2.append(r2_score(y_fer_test, test_preds_fer))\n",
        "    corr_fer, pval_fer = pearsonr(y_fer_test, test_preds_fer)\n",
        "    fer_corr.append(corr_fer)\n",
        "    fer_p.append(pval_fer)\n",
        "\n",
        "    # Metrics for Pupil\n",
        "    range_pupil = y_pupil_test.max() - y_pupil_test.min()\n",
        "    pupil_nrmse.append(root_mean_squared_error(y_pupil_test, test_preds_pupil) / range_pupil)\n",
        "    pupil_r2.append(r2_score(y_pupil_test, test_preds_pupil))\n",
        "    corr_pupil, pval_pupil = pearsonr(y_pupil_test, test_preds_pupil)\n",
        "    pupil_corr.append(corr_pupil)\n",
        "    pupil_p.append(pval_pupil)\n",
        "\n",
        "    # Metrics for GSR\n",
        "    range_gsr = y_gsr_test.max() - y_gsr_test.min()\n",
        "    gsr_nrmse.append(root_mean_squared_error(y_gsr_test, test_preds_gsr) / range_gsr)\n",
        "    gsr_r2.append(r2_score(y_gsr_test, test_preds_gsr))\n",
        "    corr_gsr, pval_gsr = pearsonr(y_gsr_test, test_preds_gsr)\n",
        "    gsr_corr.append(corr_gsr)\n",
        "    gsr_p.append(pval_gsr)\n",
        "\n",
        "# Finally combined evaluation for all participants\n",
        "true_all = np.array(true_all)\n",
        "pred_fer_all = np.array(pred_fer_all)\n",
        "pred_pupil_all = np.array(pred_pupil_all)\n",
        "pred_gsr_all = np.array(pred_gsr_all)\n",
        "\n",
        "def compute_final_metrics(y_true, y_pred):\n",
        "    \"\"\" Function to compute final metrics across all participants. \"\"\"\n",
        "    nrmse = root_mean_squared_error(y_true, y_pred) / (y_true.max() - y_true.min())\n",
        "    r2 = r2_score(y_true, y_pred)\n",
        "    corr, pval = pearsonr(y_true, y_pred)\n",
        "    return nrmse, r2, corr, pval\n",
        "\n",
        "fer_final = compute_final_metrics(true_all, pred_fer_all)\n",
        "pupil_final = compute_final_metrics(true_all, pred_pupil_all)\n",
        "gsr_final = compute_final_metrics(true_all, pred_gsr_all)\n",
        "\n",
        "print(\"\\n=== FINAL METRICS ===\")\n",
        "print(f\"FER   -> NRMSE: {fer_final[0]:.4f}, R²: {fer_final[1]:.4f}, Corr: {fer_final[2]:.4f}, p: {fer_final[3]:.4g}\")\n",
        "print(f\"Pupil -> NRMSE: {pupil_final[0]:.4f}, R²: {pupil_final[1]:.4f}, Corr: {pupil_final[2]:.4f}, p: {pupil_final[3]:.4g}\")\n",
        "print(f\"GSR   -> NRMSE: {gsr_final[0]:.4f}, R²: {gsr_final[1]:.4f}, Corr: {gsr_final[2]:.4f}, p: {gsr_final[3]:.4g}\")"
      ]
    },
    {
      "cell_type": "code",
      "execution_count": null,
      "metadata": {
        "colab": {
          "base_uri": "https://localhost:8080/"
        },
        "id": "5NLNArikgEbN",
        "outputId": "ef616eaa-9ddb-48ea-cb05-4de6ebc665d7"
      },
      "outputs": [
        {
          "name": "stdout",
          "output_type": "stream",
          "text": [
            "Saved CSV results to `Results/` folder.\n"
          ]
        }
      ],
      "source": [
        "# ---- PER-PARTICIPANT METRICS ---- #\n",
        "metrics_df = pd.DataFrame({\n",
        "    \"participant\": participants,\n",
        "    \"fer_nrmse\": fer_nrmse,\n",
        "    \"fer_r2\": fer_r2,\n",
        "    \"fer_corr\": fer_corr,\n",
        "    \"fer_p\": fer_p,\n",
        "\n",
        "    \"pupil_nrmse\": pupil_nrmse,\n",
        "    \"pupil_r2\": pupil_r2,\n",
        "    \"pupil_corr\": pupil_corr,\n",
        "    \"pupil_p\": pupil_p,\n",
        "\n",
        "    \"gsr_nrmse\": gsr_nrmse,\n",
        "    \"gsr_r2\": gsr_r2,\n",
        "    \"gsr_corr\": gsr_corr,\n",
        "    \"gsr_p\": gsr_p,\n",
        "})\n",
        "\n",
        "# Save to CSV\n",
        "metrics_df.to_csv(os.path.join(results_directory, \"LOPO Regression/arousal_each_model_per_participant_metrics.csv\"), index=False)\n",
        "\n",
        "\n",
        "# ---- FINAL SUMMARY ---- #\n",
        "final_df = pd.DataFrame({\n",
        "    \"modality\": [\"FER\", \"Pupil\", \"GSR\"],\n",
        "    \"nrmse\": [fer_final[0], pupil_final[0], gsr_final[0]],\n",
        "    \"r2\":    [fer_final[1], pupil_final[1], gsr_final[1]],\n",
        "    \"corr\":  [fer_final[2], pupil_final[2], gsr_final[2]],\n",
        "    \"p\":     [fer_final[3], pupil_final[3], gsr_final[3]]\n",
        "})\n",
        "\n",
        "final_df.to_csv(os.path.join(results_directory, \"LOPO Regression/arousal_each_model_final_summary_metrics.csv\"), index=False)\n",
        "\n",
        "print(\"Saved CSV results to `Results/` folder.\")"
      ]
    },
    {
      "cell_type": "markdown",
      "metadata": {
        "id": "wyw1lQhvawan"
      },
      "source": [
        "### Fusion model"
      ]
    },
    {
      "cell_type": "code",
      "execution_count": null,
      "metadata": {
        "id": "zKeW7sbsww7H"
      },
      "outputs": [],
      "source": [
        "def get_train_test_data(df, gt_full_set, test_pid):\n",
        "    \"\"\"Splitting the data into train and test and merge correctly with ground truth.\"\"\"\n",
        "    test_data = df[df['participant'] == test_pid].copy()\n",
        "    test_gt = gt_full_set[gt_full_set['participant'] == test_pid]\n",
        "    test_data = test_data.merge(test_gt[['participant', 'video', 'Arousal']], on=['participant', 'video'], how='inner')\n",
        "\n",
        "    train_data = df[df['participant'] != test_pid].copy()\n",
        "\n",
        "    # Individual GT without participant test_pid\n",
        "    pid_gt = load_ground_truth_exclude(test_pid)\n",
        "    pid_gt.rename(columns={\"Participant\": \"participant\", \"Stimulus_Name\": \"video\"}, inplace=True)\n",
        "    train_data = train_data.merge(pid_gt[['participant', 'video', 'Arousal']], on=['participant', 'video'], how='inner')\n",
        "\n",
        "    return train_data, test_data\n",
        "\n",
        "\n",
        "def train_modality_model(train_data, test_data, features):\n",
        "    \"\"\" Train a Linear Regression model on specific modality features. \"\"\"\n",
        "    X_train = train_data[features]\n",
        "    y_train = train_data['Arousal']\n",
        "\n",
        "    X_test = test_data[features]\n",
        "    y_test = test_data['Arousal']\n",
        "\n",
        "    model = LinearRegression()\n",
        "    model.fit(X_train, y_train)\n",
        "    return model, model.predict(X_train), model.predict(X_test), y_test.values\n",
        "\n",
        "\n",
        "def evaluate_fusion_model(y_true, y_pred):\n",
        "    \"\"\" Calculate evaluation metrics. \"\"\"\n",
        "    rmse = root_mean_squared_error(y_true, y_pred)\n",
        "    nrmse = rmse / (y_true.max() - y_true.min())\n",
        "    r2 = r2_score(y_true, y_pred)\n",
        "    corr, p_val = pearsonr(y_true, y_pred)\n",
        "    return {'NRMSE': nrmse, 'R2': r2, 'corr': corr, 'p': p_val}\n",
        "\n",
        "def get_level1_train_data(train_data, fer_features, pupil_features, gsr_features, val_ratio=0.3):\n",
        "    \"\"\" Create validation set predictions for training the fusion model (level-1). \"\"\"\n",
        "    modality_train, modality_val = train_test_split(train_data, test_size=val_ratio, random_state=42)\n",
        "\n",
        "    # Train each modality model on modality_train\n",
        "    model_fer, _, val_fer, _ = train_modality_model(modality_train, modality_val, fer_features)\n",
        "    model_pupil, _, val_pupil, _ = train_modality_model(modality_train, modality_val, pupil_features)\n",
        "    model_gsr, _, val_gsr, y_val = train_modality_model(modality_train, modality_val, gsr_features)\n",
        "\n",
        "    # Stack predictions to create the fusion training input\n",
        "    fusion_X_train = np.vstack([val_fer, val_pupil, val_gsr]).T\n",
        "    fusion_y_train = y_val\n",
        "\n",
        "    return fusion_X_train, fusion_y_train, model_fer, model_pupil, model_gsr\n",
        "\n",
        "\n",
        "def run_participant_loop(df, gt_full_set, fusion_model_cls, fusion_model_kwargs={}):\n",
        "    \"\"\" Loop through each participant, split data, train models and evaluate. \"\"\"\n",
        "    participants = df['participant'].unique()\n",
        "    participant_results = []\n",
        "    fusion_weights = {}\n",
        "    all_fusion_preds, all_true_values, all_test_participants = [], [], []\n",
        "\n",
        "    for test_pid in participants:\n",
        "        train_data, test_data = get_train_test_data(df, gt_full_set, test_pid)\n",
        "\n",
        "        # Get level-1 training data without leakage\n",
        "        fusion_X_train, fusion_y_train, model_fer, model_pupil, model_gsr = get_level1_train_data(\n",
        "            train_data, fer_features, pupil_features, gsr_features\n",
        "        )\n",
        "\n",
        "        # Predict on test set using the trained modality models\n",
        "        _, _, test_fer, y_test = train_modality_model(train_data, test_data, fer_features)\n",
        "        _, _, test_pupil, _ = train_modality_model(train_data, test_data, pupil_features)\n",
        "        _, _, test_gsr, _ = train_modality_model(train_data, test_data, gsr_features)\n",
        "\n",
        "        fusion_X_test = np.vstack([test_fer, test_pupil, test_gsr]).T\n",
        "\n",
        "        # Train and predict with the fusion model\n",
        "        model_fusion = fusion_model_cls(**fusion_model_kwargs)\n",
        "        model_fusion.fit(fusion_X_train, fusion_y_train)\n",
        "        fusion_preds = model_fusion.predict(fusion_X_test)\n",
        "\n",
        "        # Store weights if linear model\n",
        "        if hasattr(model_fusion, 'coef_'):\n",
        "            fusion_weights[test_pid] = model_fusion.coef_\n",
        "\n",
        "        # Evaluate\n",
        "        metrics = evaluate_fusion_model(y_test, fusion_preds)\n",
        "        metrics['participant'] = test_pid\n",
        "        participant_results.append(metrics)\n",
        "\n",
        "        all_fusion_preds.extend(fusion_preds)\n",
        "        all_true_values.extend(y_test)\n",
        "        all_test_participants.extend([test_pid] * len(y_test))\n",
        "\n",
        "    return participant_results, fusion_weights, all_fusion_preds, all_true_values, all_test_participants"
      ]
    },
    {
      "cell_type": "code",
      "execution_count": null,
      "metadata": {
        "id": "hhltYT-2HkxR"
      },
      "outputs": [],
      "source": [
        "def evaluate_global_metrics(y_true, y_pred):\n",
        "    rmse = root_mean_squared_error(y_true, y_pred)\n",
        "    nrmse = rmse / (np.max(y_true) - np.min(y_true))\n",
        "    r2 = r2_score(y_true, y_pred)\n",
        "    corr, p_val = pearsonr(y_true, y_pred)\n",
        "    return {\n",
        "        'RMSE': rmse,\n",
        "        'NRMSE': nrmse,\n",
        "        'R2': r2,\n",
        "        'corr': corr,\n",
        "        'p': p_val\n",
        "    }\n",
        "\n",
        "\n",
        "def print_global_metrics(metrics, title=\"=== Arousal Model Overall Global Metrics ===\"):\n",
        "    print(f\"\\n{title}\")\n",
        "    print(f\"Global NRMSE: {metrics['NRMSE']:.4f}\")\n",
        "    print(f\"Global R²: {metrics['R2']:.4f}\")\n",
        "    print(f\"Global corr: {metrics['corr']:.4f}, p = {metrics['p']:.4e}\")\n",
        "\n",
        "\n",
        "def print_fusion_weights_summary(fusion_weights):\n",
        "    if fusion_weights:\n",
        "        weights_df = pd.DataFrame(fusion_weights).T\n",
        "        weights_df.columns = ['FER_weight', 'Pupil_weight', 'GSR_weight']\n",
        "        print(\"\\nAverage Fusion Weights across Participants:\")\n",
        "        print(weights_df.mean().round(4))\n",
        "\n",
        "\n",
        "def print_per_participant_metrics(results_df):\n",
        "    print(\"\\n=== Arousal Model Per-Participant Fusion Metrics ===\")\n",
        "    print(results_df.round(4))\n",
        "    summary = results_df[['NRMSE', 'R2', 'corr', 'p']].agg(['mean', 'std'])\n",
        "    print(\"\\n=== Summary Across Participants ===\")\n",
        "    print(summary.round(4))\n",
        "\n",
        "\n",
        "def print_filtered_summary(results_df):\n",
        "    filtered = results_df[\n",
        "        (results_df['R2'] > -1.0) &\n",
        "        (results_df['NRMSE'] < 1.5) &\n",
        "        (results_df['corr'].abs() > 0.2)\n",
        "    ]\n",
        "    summary_filtered = filtered[['NRMSE', 'R2', 'corr', 'p']].agg(['mean', 'std'])\n",
        "    print(\"\\n=== Summary (Excluding Outliers) ===\")\n",
        "    print(summary_filtered.round(4))\n",
        "\n",
        "\n",
        "def run_evaluation_pipeline(df, gt_full_set, model_cls, model_kwargs):\n",
        "    \"\"\" Evaluate the LOPO results. \"\"\"\n",
        "    print(f\"\\n Arousal Model Running with Fusion Model: {model_cls.__name__}\")\n",
        "    participant_results, fusion_weights, all_preds, all_true, all_test_participants = run_participant_loop(\n",
        "        df, gt_full_set, model_cls, model_kwargs\n",
        "    )\n",
        "\n",
        "    global_metrics = evaluate_global_metrics(all_true, all_preds)\n",
        "\n",
        "    print_global_metrics(global_metrics)\n",
        "    print_fusion_weights_summary(fusion_weights)\n",
        "\n",
        "    results_df = pd.DataFrame(participant_results)\n",
        "    print_per_participant_metrics(results_df)\n",
        "    print_filtered_summary(results_df)\n",
        "\n",
        "    return results_df, global_metrics"
      ]
    },
    {
      "cell_type": "markdown",
      "metadata": {
        "id": "eVrnKlBvgDOK"
      },
      "source": [
        "#### **Linear Regression**\n",
        "\n",
        "---\n",
        "\n"
      ]
    },
    {
      "cell_type": "code",
      "execution_count": null,
      "metadata": {
        "colab": {
          "base_uri": "https://localhost:8080/"
        },
        "id": "C2nSVGRD_HL2",
        "outputId": "f3d23e46-f127-446b-beb6-c9f33110b037"
      },
      "outputs": [
        {
          "name": "stdout",
          "output_type": "stream",
          "text": [
            "\n",
            "=== Arousal Model Overall Global Metrics ===\n",
            "Global NRMSE: 0.3482\n",
            "Global R²: -0.9270\n",
            "Global corr: 0.2598, p = 1.5308e-22\n",
            "\n",
            "Average Fusion Weights across Participants:\n",
            "FER_weight      0.0860\n",
            "Pupil_weight    0.9156\n",
            "GSR_weight      0.4070\n",
            "dtype: float64\n"
          ]
        }
      ],
      "source": [
        "# ---- Run and Print Results -----\n",
        "fusion_model_cls = LinearRegression\n",
        "fusion_model_kwargs = {}\n",
        "\n",
        "participant_results, fusion_weights, all_fusion_preds, all_true_values, all_test_participants = run_participant_loop(df, gt_full_set, fusion_model_cls, fusion_model_kwargs)\n",
        "\n",
        "global_metrics = evaluate_global_metrics(all_true_values, all_fusion_preds)\n",
        "\n",
        "print_global_metrics(global_metrics)\n",
        "print_fusion_weights_summary(fusion_weights)"
      ]
    },
    {
      "cell_type": "code",
      "execution_count": null,
      "metadata": {
        "colab": {
          "base_uri": "https://localhost:8080/"
        },
        "id": "rACZ7yFHmL3X",
        "outputId": "a03d9209-8875-4146-db88-949df4bb3bb9"
      },
      "outputs": [
        {
          "name": "stdout",
          "output_type": "stream",
          "text": [
            "\n",
            "=== Arousal Model Per-Participant Fusion Metrics ===\n",
            "     NRMSE       R2    corr       p participant\n",
            "0   0.2774   0.2853  0.5881  0.0001       F5tXL\n",
            "1   0.2634   0.3559  0.6403  0.0000        Gax8\n",
            "2   0.2911   0.2131  0.5153  0.0009       Hx7dO\n",
            "3   0.2478   0.4300  0.6896  0.0000       wohkw\n",
            "4   0.2535   0.4031  0.6573  0.0000       PPjCX\n",
            "5   0.2474   0.4318  0.6718  0.0000       tMGNS\n",
            "6   0.2450   0.4428  0.6710  0.0000       5KB3V\n",
            "7   0.2847   0.2474  0.5554  0.0003      EJOiBs\n",
            "8   0.2444   0.4454  0.6963  0.0000        gf5X\n",
            "9   0.2470   0.4336  0.7067  0.0000       gjGzb\n",
            "10  0.2581   0.3816  0.6393  0.0000       LR96S\n",
            "11  0.2661   0.3426  0.6170  0.0000       CoQmx\n",
            "12  0.2674   0.3363  0.6230  0.0000      G5XzoP\n",
            "13  0.2352   0.4865  0.7023  0.0000      XhsN0o\n",
            "14  0.3208   0.0442  0.5099  0.0011       9FGka\n",
            "15  0.2842   0.2503  0.5036  0.0013      hMHEK1\n",
            "16  0.2493   0.4231  0.6582  0.0000       4FoNM\n",
            "17  0.2707   0.3196  0.6036  0.0001       8vDRG\n",
            "18  0.2785   0.2800  0.6044  0.0001       NMy2s\n",
            "19  0.2540   0.4011  0.6937  0.0000       WQzBV\n",
            "20  0.3669  -0.2498  0.5415  0.0004      Cr1sTi\n",
            "21  0.3108   0.1032  0.5740  0.0002     EXAMPLE\n",
            "22  0.2595   0.3746  0.6251  0.0000       Gftw5\n",
            "23  0.2561   0.3911  0.7058  0.0000       6GSd4\n",
            "24  2.2164 -44.6126  0.1853  0.2654       D9Hh9\n",
            "25  0.2988   0.1707  0.4941  0.0016       F8mDn\n",
            "26  0.2937   0.1989  0.4983  0.0015      KoG5ii\n",
            "27  0.2861   0.2401  0.5170  0.0009       M4t7k\n",
            "28  0.2983   0.1736  0.4191  0.0088       yb3T2\n",
            "29  0.2835   0.2537  0.5085  0.0011       O1pGR\n",
            "30  0.2856   0.2427  0.5819  0.0001       VckNZ\n",
            "31  0.2891   0.2241  0.5403  0.0005       G4Egk\n",
            "32  0.2650   0.3480  0.6578  0.0000       urJvc\n",
            "33  0.2961   0.1860  0.4479  0.0048      Fjil72\n",
            "34  0.3133   0.0884  0.3406  0.0364      Pi9803\n",
            "35  0.3059   0.1311  0.4146  0.0096       KWgkc\n",
            "\n",
            "=== Summary Across Participants ===\n",
            "       NRMSE      R2    corr       p\n",
            "mean  0.3309 -0.9662  0.5722  0.0093\n",
            "std   0.3244  7.4837  0.1143  0.0444\n"
          ]
        }
      ],
      "source": [
        "results_df = pd.DataFrame(participant_results)\n",
        "print_per_participant_metrics(results_df)"
      ]
    },
    {
      "cell_type": "markdown",
      "metadata": {
        "id": "vCLOreGCnlhV"
      },
      "source": [
        "However, there are a few participants with concerning results that might be worth paying attention.\n",
        "\n",
        "Most participants have:\n",
        "\n",
        "*   NRMSE ≈ 0.2–0.3\n",
        "*   R² between 0.2 and 0.5\n",
        "\n",
        "But there are outliers:\n",
        "\n",
        "\n",
        "*   Participants **D9Hh9** , **Cr1sTi**: This is essentially random/noisy prediction, have again negative or very low R² and relatively high NRMSE.\n",
        "\n",
        "\n",
        "\n"
      ]
    },
    {
      "cell_type": "markdown",
      "metadata": {
        "id": "4HkVeVJNqDQF"
      },
      "source": [
        "**Flag and Exclude Extreme Outliers for Summary Stats**\n",
        "\n"
      ]
    },
    {
      "cell_type": "code",
      "execution_count": null,
      "metadata": {
        "colab": {
          "base_uri": "https://localhost:8080/"
        },
        "id": "0krjTgUbpgr5",
        "outputId": "2594b9ec-a938-4046-8a10-b813b1512894"
      },
      "outputs": [
        {
          "name": "stdout",
          "output_type": "stream",
          "text": [
            "\n",
            "=== Summary (Excluding Outliers) ===\n",
            "       NRMSE      R2    corr       p\n",
            "mean  0.2770  0.2809  0.5832  0.0020\n",
            "std   0.0274  0.1480  0.0944  0.0064\n"
          ]
        }
      ],
      "source": [
        "print_filtered_summary(results_df)"
      ]
    },
    {
      "cell_type": "markdown",
      "metadata": {
        "id": "luYUzFbsqszo"
      },
      "source": [
        "**Investigate the Outliers**\n"
      ]
    },
    {
      "cell_type": "code",
      "execution_count": null,
      "metadata": {
        "colab": {
          "base_uri": "https://localhost:8080/",
          "height": 391
        },
        "id": "o2NSlkWYmL5-",
        "outputId": "a15ea009-de84-4191-a16b-ca6ce55b8179"
      },
      "outputs": [
        {
          "data": {
            "image/png": "[encoded data removed]",
            "text/plain": [
              "<Figure size 800x400 with 1 Axes>"
            ]
          },
          "metadata": {},
          "output_type": "display_data"
        }
      ],
      "source": [
        "import matplotlib.pyplot as plt\n",
        "\n",
        "bad_pid = 'D9Hh9'\n",
        "mask = np.array(all_test_participants) == bad_pid\n",
        "plt.figure(figsize=(8, 4))\n",
        "plt.plot(np.array(all_true_values)[mask], label='True')\n",
        "plt.plot(np.array(all_fusion_preds)[mask], label='Predicted')\n",
        "plt.title(f'Participant {bad_pid}')\n",
        "plt.legend()\n",
        "plt.show()"
      ]
    },
    {
      "cell_type": "markdown",
      "metadata": {
        "id": "hYYD3bBiDtl7"
      },
      "source": [
        "#### **Ridge regression**\n",
        "\n",
        "---\n",
        "\n"
      ]
    },
    {
      "cell_type": "code",
      "execution_count": null,
      "metadata": {
        "colab": {
          "base_uri": "https://localhost:8080/"
        },
        "id": "g8skopZRF03X",
        "outputId": "c8329b85-b6ec-42b7-f198-b837418f7ae1"
      },
      "outputs": [
        {
          "name": "stdout",
          "output_type": "stream",
          "text": [
            "\n",
            " Arousal Model Running with Fusion Model: Ridge\n",
            "\n",
            "=== Arousal Model Overall Global Metrics ===\n",
            "Global NRMSE: 0.3416\n",
            "Global R²: -0.8542\n",
            "Global corr: 0.2538, p = 1.5015e-21\n",
            "\n",
            "Average Fusion Weights across Participants:\n",
            "FER_weight      0.0668\n",
            "Pupil_weight    0.8289\n",
            "GSR_weight      0.3991\n",
            "dtype: float64\n",
            "\n",
            "=== Arousal Model Per-Participant Fusion Metrics ===\n",
            "     NRMSE       R2    corr       p participant\n",
            "0   0.2766   0.2896  0.5930  0.0001       F5tXL\n",
            "1   0.2651   0.3475  0.6439  0.0000        Gax8\n",
            "2   0.2906   0.2156  0.5144  0.0010       Hx7dO\n",
            "3   0.2493   0.4229  0.6931  0.0000       wohkw\n",
            "4   0.2551   0.3958  0.6611  0.0000       PPjCX\n",
            "5   0.2451   0.4423  0.6774  0.0000       tMGNS\n",
            "6   0.2458   0.4389  0.6712  0.0000       5KB3V\n",
            "7   0.2807   0.2682  0.5593  0.0003      EJOiBs\n",
            "8   0.2469   0.4338  0.7004  0.0000        gf5X\n",
            "9   0.2504   0.4178  0.7079  0.0000       gjGzb\n",
            "10  0.2573   0.3854  0.6410  0.0000       LR96S\n",
            "11  0.2658   0.3440  0.6324  0.0000       CoQmx\n",
            "12  0.2584   0.3800  0.6322  0.0000      G5XzoP\n",
            "13  0.2365   0.4807  0.6972  0.0000      XhsN0o\n",
            "14  0.3094   0.1109  0.5179  0.0009       9FGka\n",
            "15  0.2833   0.2548  0.5092  0.0011      hMHEK1\n",
            "16  0.2507   0.4164  0.6593  0.0000       4FoNM\n",
            "17  0.2712   0.3172  0.6059  0.0001       8vDRG\n",
            "18  0.2708   0.3189  0.6113  0.0000       NMy2s\n",
            "19  0.2567   0.3881  0.6879  0.0000       WQzBV\n",
            "20  0.3622  -0.2180  0.5388  0.0005      Cr1sTi\n",
            "21  0.3059   0.1312  0.5753  0.0002     EXAMPLE\n",
            "22  0.2610   0.3676  0.6287  0.0000       Gftw5\n",
            "23  0.2569   0.3870  0.7081  0.0000       6GSd4\n",
            "24  2.1512 -41.9710  0.1836  0.2700       D9Hh9\n",
            "25  0.2924   0.2059  0.4949  0.0016       F8mDn\n",
            "26  0.2962   0.1856  0.4959  0.0015      KoG5ii\n",
            "27  0.2889   0.2251  0.5150  0.0009       M4t7k\n",
            "28  0.2990   0.1701  0.4191  0.0088       yb3T2\n",
            "29  0.2834   0.2543  0.5130  0.0010       O1pGR\n",
            "30  0.2883   0.2280  0.5887  0.0001       VckNZ\n",
            "31  0.2905   0.2164  0.5477  0.0004       G4Egk\n",
            "32  0.2674   0.3360  0.6659  0.0000       urJvc\n",
            "33  0.2938   0.1983  0.4532  0.0043      Fjil72\n",
            "34  0.3138   0.0854  0.3571  0.0277      Pi9803\n",
            "35  0.3058   0.1318  0.4261  0.0076       KWgkc\n",
            "\n",
            "=== Summary Across Participants ===\n",
            "       NRMSE      R2    corr       p\n",
            "mean  0.3284 -0.8888  0.5757  0.0091\n",
            "std   0.3135  7.0440  0.1137  0.0450\n",
            "\n",
            "=== Summary (Excluding Outliers) ===\n",
            "       NRMSE      R2   corr       p\n",
            "mean  0.2763  0.2850  0.587  0.0017\n",
            "std   0.0259  0.1393  0.093  0.0050\n"
          ]
        }
      ],
      "source": [
        "# Try Ridge\n",
        "results_ridge, metrics_ridge = run_evaluation_pipeline(df, gt_full_set, Ridge, {'alpha': 1.0})"
      ]
    },
    {
      "cell_type": "markdown",
      "metadata": {
        "id": "B-PuZCUsmBn_"
      },
      "source": [
        "#### **Random Forest Regression**\n",
        "\n",
        "---\n",
        "\n"
      ]
    },
    {
      "cell_type": "code",
      "execution_count": null,
      "metadata": {
        "colab": {
          "base_uri": "https://localhost:8080/"
        },
        "id": "7_F6RifqF7BP",
        "outputId": "be61afea-e96b-4d4f-9bb5-98f985b6a251"
      },
      "outputs": [
        {
          "name": "stdout",
          "output_type": "stream",
          "text": [
            "\n",
            " Arousal Model Running with Fusion Model: RandomForestRegressor\n",
            "\n",
            "=== Arousal Model Overall Global Metrics ===\n",
            "Global NRMSE: 0.1935\n",
            "Global R²: 0.4050\n",
            "Global corr: 0.6443, p = 2.7070e-161\n",
            "\n",
            "=== Arousal Model Per-Participant Fusion Metrics ===\n",
            "     NRMSE      R2    corr       p participant\n",
            "0   0.2612  0.3665  0.6105  0.0000       F5tXL\n",
            "1   0.2504  0.4178  0.6483  0.0000        Gax8\n",
            "2   0.2362  0.4819  0.7045  0.0000       Hx7dO\n",
            "3   0.2477  0.4304  0.6659  0.0000       wohkw\n",
            "4   0.2092  0.5936  0.7758  0.0000       PPjCX\n",
            "5   0.2310  0.5046  0.7416  0.0000       tMGNS\n",
            "6   0.2355  0.4852  0.7501  0.0000       5KB3V\n",
            "7   0.2557  0.3929  0.6484  0.0000      EJOiBs\n",
            "8   0.2052  0.6092  0.7893  0.0000        gf5X\n",
            "9   0.2683  0.3315  0.5958  0.0001       gjGzb\n",
            "10  0.2756  0.2946  0.6136  0.0000       LR96S\n",
            "11  0.2894  0.2226  0.5053  0.0012       CoQmx\n",
            "12  0.2451  0.4422  0.6683  0.0000      G5XzoP\n",
            "13  0.2516  0.4121  0.7680  0.0000      XhsN0o\n",
            "14  0.3161  0.0722  0.6612  0.0000       9FGka\n",
            "15  0.2768  0.2884  0.5593  0.0003      hMHEK1\n",
            "16  0.2541  0.4004  0.6957  0.0000       4FoNM\n",
            "17  0.2526  0.4077  0.6569  0.0000       8vDRG\n",
            "18  0.2625  0.3603  0.6875  0.0000       NMy2s\n",
            "19  0.2181  0.5583  0.7570  0.0000       WQzBV\n",
            "20  0.2677  0.3346  0.6047  0.0001      Cr1sTi\n",
            "21  0.3518 -0.1490  0.5112  0.0010     EXAMPLE\n",
            "22  0.2285  0.5153  0.7220  0.0000       Gftw5\n",
            "23  0.2509  0.4156  0.6681  0.0000       6GSd4\n",
            "24  0.2718  0.3138  0.5968  0.0001       D9Hh9\n",
            "25  0.3430 -0.0927  0.6294  0.0000       F8mDn\n",
            "26  0.3299 -0.0108  0.4964  0.0015      KoG5ii\n",
            "27  0.2630  0.3575  0.6020  0.0001       M4t7k\n",
            "28  0.2700  0.3233  0.5961  0.0001       yb3T2\n",
            "29  0.2656  0.3452  0.6514  0.0000       O1pGR\n",
            "30  0.1810  0.6959  0.8440  0.0000       VckNZ\n",
            "31  0.2402  0.4643  0.7180  0.0000       G4Egk\n",
            "32  0.2355  0.4850  0.7295  0.0000       urJvc\n",
            "33  0.2078  0.5992  0.7829  0.0000      Fjil72\n",
            "34  0.2739  0.3034  0.5601  0.0003      Pi9803\n",
            "35  0.2486  0.4262  0.6557  0.0000       KWgkc\n",
            "\n",
            "=== Summary Across Participants ===\n",
            "       NRMSE      R2    corr       p\n",
            "mean  0.2575  0.3722  0.6631  0.0001\n",
            "std   0.0364  0.1832  0.0842  0.0004\n",
            "\n",
            "=== Summary (Excluding Outliers) ===\n",
            "       NRMSE      R2    corr       p\n",
            "mean  0.2575  0.3722  0.6631  0.0001\n",
            "std   0.0364  0.1832  0.0842  0.0004\n"
          ]
        }
      ],
      "source": [
        "# Try Random Forest\n",
        "results_rf, metrics_rf = run_evaluation_pipeline(df, gt_full_set, RandomForestRegressor, {'n_estimators': 100, 'random_state': 42})"
      ]
    },
    {
      "cell_type": "markdown",
      "metadata": {
        "id": "ubra7vP5MhWS"
      },
      "source": [
        "As expected, RandomForestRegressor did a better job because it can handle outliers and heterogenour patterns between participants."
      ]
    },
    {
      "cell_type": "markdown",
      "metadata": {
        "id": "n-TaH4gqmE6W"
      },
      "source": [
        "#### **GradientBoostingRegressor**\n",
        "\n",
        "---\n",
        "\n"
      ]
    },
    {
      "cell_type": "code",
      "execution_count": null,
      "metadata": {
        "colab": {
          "base_uri": "https://localhost:8080/"
        },
        "id": "1f6r_P13mLAi",
        "outputId": "3f1c85d2-5a5a-42c1-c127-16b95cc06043"
      },
      "outputs": [
        {
          "name": "stdout",
          "output_type": "stream",
          "text": [
            "\n",
            " Arousal Model Running with Fusion Model: GradientBoostingRegressor\n",
            "\n",
            "=== Arousal Model Overall Global Metrics ===\n",
            "Global NRMSE: 0.1964\n",
            "Global R²: 0.3868\n",
            "Global corr: 0.6405, p = 7.8958e-159\n",
            "\n",
            "=== Arousal Model Per-Participant Fusion Metrics ===\n",
            "     NRMSE      R2    corr       p participant\n",
            "0   0.2444  0.4452  0.6694  0.0000       F5tXL\n",
            "1   0.2573  0.3852  0.6223  0.0000        Gax8\n",
            "2   0.2576  0.3838  0.6305  0.0000       Hx7dO\n",
            "3   0.2347  0.4884  0.7092  0.0000       wohkw\n",
            "4   0.2195  0.5524  0.7476  0.0000       PPjCX\n",
            "5   0.2206  0.5483  0.7675  0.0000       tMGNS\n",
            "6   0.2554  0.3944  0.7121  0.0000       5KB3V\n",
            "7   0.2525  0.4082  0.6789  0.0000      EJOiBs\n",
            "8   0.2095  0.5924  0.7741  0.0000        gf5X\n",
            "9   0.2846  0.2477  0.5731  0.0002       gjGzb\n",
            "10  0.2822  0.2606  0.6301  0.0000       LR96S\n",
            "11  0.2734  0.3060  0.5727  0.0002       CoQmx\n",
            "12  0.2535  0.4033  0.6574  0.0000      G5XzoP\n",
            "13  0.2600  0.3723  0.7753  0.0000      XhsN0o\n",
            "14  0.3249  0.0199  0.6430  0.0000       9FGka\n",
            "15  0.3001  0.1640  0.4824  0.0022      hMHEK1\n",
            "16  0.2476  0.4306  0.7221  0.0000       4FoNM\n",
            "17  0.2659  0.3433  0.6168  0.0000       8vDRG\n",
            "18  0.2900  0.2193  0.6778  0.0000       NMy2s\n",
            "19  0.2380  0.4741  0.6985  0.0000       WQzBV\n",
            "20  0.2625  0.3601  0.6376  0.0000      Cr1sTi\n",
            "21  0.3486 -0.1281  0.5639  0.0002     EXAMPLE\n",
            "22  0.2238  0.5348  0.7342  0.0000       Gftw5\n",
            "23  0.2454  0.4406  0.7004  0.0000       6GSd4\n",
            "24  0.2572  0.3856  0.6487  0.0000       D9Hh9\n",
            "25  0.3368 -0.0530  0.6780  0.0000       F8mDn\n",
            "26  0.3217  0.0392  0.5692  0.0002      KoG5ii\n",
            "27  0.2645  0.3502  0.5955  0.0001       M4t7k\n",
            "28  0.2762  0.2916  0.5786  0.0001       yb3T2\n",
            "29  0.2953  0.1905  0.6003  0.0001       O1pGR\n",
            "30  0.1868  0.6760  0.8401  0.0000       VckNZ\n",
            "31  0.2422  0.4551  0.7261  0.0000       G4Egk\n",
            "32  0.2248  0.5307  0.7537  0.0000       urJvc\n",
            "33  0.2128  0.5796  0.7629  0.0000      Fjil72\n",
            "34  0.2746  0.2998  0.5667  0.0002      Pi9803\n",
            "35  0.2730  0.3081  0.5713  0.0002       KWgkc\n",
            "\n",
            "=== Summary Across Participants ===\n",
            "       NRMSE      R2    corr       p\n",
            "mean  0.2616  0.3528  0.6636  0.0001\n",
            "std   0.0360  0.1811  0.0795  0.0004\n",
            "\n",
            "=== Summary (Excluding Outliers) ===\n",
            "       NRMSE      R2    corr       p\n",
            "mean  0.2616  0.3528  0.6636  0.0001\n",
            "std   0.0360  0.1811  0.0795  0.0004\n"
          ]
        }
      ],
      "source": [
        "# Try Gradient Boosting Regressor\n",
        "results_rf, metrics_rf = run_evaluation_pipeline(df, gt_full_set, GradientBoostingRegressor,\n",
        " {'n_estimators': 100, 'learning_rate': 0.1, 'max_depth': 4, 'random_state': 42})"
      ]
    },
    {
      "cell_type": "markdown",
      "metadata": {
        "id": "hGf_K8CQ1Zoc"
      },
      "source": [
        "#### **SVR Support Vector Regression**\n",
        "\n",
        "---\n",
        "\n"
      ]
    },
    {
      "cell_type": "code",
      "execution_count": null,
      "metadata": {
        "colab": {
          "base_uri": "https://localhost:8080/"
        },
        "id": "PNtmQdNx1dWL",
        "outputId": "8f6a1720-0007-4df3-b10b-93170bbe6676"
      },
      "outputs": [
        {
          "name": "stdout",
          "output_type": "stream",
          "text": [
            "\n",
            " Arousal Model Running with Fusion Model: SVR\n",
            "\n",
            "=== Arousal Model Overall Global Metrics ===\n",
            "Global NRMSE: 0.1888\n",
            "Global R²: 0.4335\n",
            "Global corr: 0.6655, p = 1.0411e-175\n",
            "\n",
            "=== Arousal Model Per-Participant Fusion Metrics ===\n",
            "     NRMSE      R2    corr       p participant\n",
            "0   0.2694  0.3260  0.5802  0.0001       F5tXL\n",
            "1   0.2307  0.5059  0.7151  0.0000        Gax8\n",
            "2   0.2776  0.2843  0.5948  0.0001       Hx7dO\n",
            "3   0.2181  0.5583  0.7494  0.0000       wohkw\n",
            "4   0.2285  0.5154  0.7190  0.0000       PPjCX\n",
            "5   0.2465  0.4358  0.7327  0.0000       tMGNS\n",
            "6   0.2028  0.6181  0.8095  0.0000       5KB3V\n",
            "7   0.2478  0.4299  0.6907  0.0000      EJOiBs\n",
            "8   0.1992  0.6315  0.7989  0.0000        gf5X\n",
            "9   0.2420  0.4563  0.6792  0.0000       gjGzb\n",
            "10  0.2728  0.3089  0.6693  0.0000       LR96S\n",
            "11  0.2314  0.5026  0.7139  0.0000       CoQmx\n",
            "12  0.2364  0.4811  0.6968  0.0000      G5XzoP\n",
            "13  0.2075  0.6003  0.8138  0.0000      XhsN0o\n",
            "14  0.2964  0.1843  0.6741  0.0000       9FGka\n",
            "15  0.2597  0.3739  0.6425  0.0000      hMHEK1\n",
            "16  0.2412  0.4599  0.7092  0.0000       4FoNM\n",
            "17  0.2645  0.3505  0.6487  0.0000       8vDRG\n",
            "18  0.2247  0.5310  0.7795  0.0000       NMy2s\n",
            "19  0.2101  0.5903  0.7741  0.0000       WQzBV\n",
            "20  0.2849  0.2463  0.5316  0.0006      Cr1sTi\n",
            "21  0.3979 -0.4702  0.4208  0.0085     EXAMPLE\n",
            "22  0.2140  0.5747  0.7719  0.0000       Gftw5\n",
            "23  0.2335  0.4939  0.7351  0.0000       6GSd4\n",
            "24  0.2757  0.2943  0.6141  0.0000       D9Hh9\n",
            "25  0.2708  0.3193  0.7210  0.0000       F8mDn\n",
            "26  0.2621  0.3623  0.6502  0.0000      KoG5ii\n",
            "27  0.2956  0.1889  0.4980  0.0015       M4t7k\n",
            "28  0.2537  0.4023  0.6674  0.0000       yb3T2\n",
            "29  0.2478  0.4300  0.6996  0.0000       O1pGR\n",
            "30  0.2220  0.5424  0.7397  0.0000       VckNZ\n",
            "31  0.2168  0.5635  0.7954  0.0000       G4Egk\n",
            "32  0.2534  0.4040  0.6952  0.0000       urJvc\n",
            "33  0.2028  0.6181  0.7880  0.0000      Fjil72\n",
            "34  0.2782  0.2812  0.5827  0.0001      Pi9803\n",
            "35  0.2435  0.4494  0.6722  0.0000       KWgkc\n",
            "\n",
            "=== Summary Across Participants ===\n",
            "       NRMSE      R2    corr       p\n",
            "mean  0.2489  0.4124  0.6882  0.0003\n",
            "std   0.0372  0.1955  0.0890  0.0014\n",
            "\n",
            "=== Summary (Excluding Outliers) ===\n",
            "       NRMSE      R2    corr       p\n",
            "mean  0.2489  0.4124  0.6882  0.0003\n",
            "std   0.0372  0.1955  0.0890  0.0014\n"
          ]
        }
      ],
      "source": [
        "# Try SVR\n",
        "results_rf, metrics_rf = run_evaluation_pipeline(df, gt_full_set,SVR, {'kernel':'rbf', 'C':1.0, 'epsilon':0.1})"
      ]
    },
    {
      "cell_type": "markdown",
      "metadata": {
        "id": "IRrQnRnP93C3"
      },
      "source": [
        "### Checking normalization"
      ]
    },
    {
      "cell_type": "markdown",
      "metadata": {
        "id": "LWJ03iwdrNjn"
      },
      "source": [
        "Code to check if it is better with or without using normalization."
      ]
    },
    {
      "cell_type": "code",
      "execution_count": null,
      "metadata": {
        "colab": {
          "base_uri": "https://localhost:8080/"
        },
        "id": "JIoRyHZpuHlX",
        "outputId": "3310795e-7690-40d4-81e9-f2d9160133e3"
      },
      "outputs": [
        {
          "name": "stdout",
          "output_type": "stream",
          "text": [
            "Text results saved to /content/drive/MyDrive/Data-Multimotion/Results/LOPO Regression/normalization_comparison.txt\n"
          ]
        }
      ],
      "source": [
        "participants = df['participant'].unique()\n",
        "\n",
        "results_file = results_directory + \"/LOPO Regression/normalization_comparison.txt\"\n",
        "\n",
        "with open(results_file, 'a') as f:\n",
        "  f.write(\"GSR LINEAR REGRESSION MODEL NORMALIZATION/COMPARISON - MIN MAX SCALER -1 and 1 \\n\\n\")\n",
        "\n",
        "# Lists to store all RMSEs for summary\n",
        "rmse_raw_list = []\n",
        "rmse_scaled_list = []\n",
        "\n",
        "with open(results_file, 'a') as f:\n",
        "  for test_pid in participants:\n",
        "      # Get the test data\n",
        "      test_data = df[df['participant'] == test_pid].copy()\n",
        "\n",
        "      # Use full GT for test participant\n",
        "      test_gt = gt_full_set[gt_full_set['participant'] == test_pid]\n",
        "      test_data = test_data.merge(test_gt[['participant', 'video', 'Arousal']], on=['participant', 'video'], how='inner')\n",
        "\n",
        "      train_data = df[df['participant'] != test_pid].copy()\n",
        "\n",
        "      # Loading the GT excluding the test participant\n",
        "      pid_gt = load_ground_truth_exclude(test_pid)\n",
        "      pid_gt.rename(columns={\"Participant\": \"participant\", \"Stimulus_Name\": \"video\"}, inplace=True)\n",
        "\n",
        "      # Merging the train data with GT\n",
        "      train_data = train_data.merge(pid_gt[['participant', 'video', 'Arousal']], on=['participant', 'video'], how='inner')\n",
        "\n",
        "      non_feature_cols = ['participant', 'video']\n",
        "      feature_cols = df_fer.drop(columns=non_feature_cols).select_dtypes(include=[np.number]).columns.tolist()\n",
        "\n",
        "      # CHANGE here which features\n",
        "      X_train = train_data[gsr_features]\n",
        "      y_train = train_data['Arousal']\n",
        "      X_test = test_data[gsr_features]\n",
        "      y_test = test_data['Arousal']\n",
        "\n",
        "        # --- Without Normalization ---\n",
        "      model_raw = LinearRegression()\n",
        "      model_raw.fit(X_train, y_train)\n",
        "      preds_raw = model_raw.predict(X_test)\n",
        "      rmse_raw = root_mean_squared_error(y_test, preds_raw)\n",
        "\n",
        "        # --- With Normalization ---\n",
        "      scaler = MinMaxScaler(feature_range=(-1, 1))\n",
        "      X_train_scaled = scaler.fit_transform(X_train)\n",
        "      X_test_scaled = scaler.transform(X_test)\n",
        "\n",
        "      model_scaled = LinearRegression()\n",
        "      model_scaled.fit(X_train_scaled, y_train)\n",
        "      preds_scaled = model_scaled.predict(X_test_scaled)\n",
        "      rmse_scaled = root_mean_squared_error(y_test, preds_scaled)\n",
        "\n",
        "         # Save for summary\n",
        "      rmse_raw_list.append(rmse_raw)\n",
        "      rmse_scaled_list.append(rmse_scaled)\n",
        "\n",
        "        # Write results to file\n",
        "      f.write(f\"Participant: {test_pid}\\n\")\n",
        "      f.write(f\"  RMSE without normalization: {rmse_raw:.4f}\\n\")\n",
        "      f.write(f\"  RMSE with normalization:    {rmse_scaled:.4f}\\n\")\n",
        "      f.write(\"-\" * 40 + \"\\n\")\n",
        "\n",
        "  # Show summary\n",
        "  avg_rmse_raw = np.mean(rmse_raw_list)\n",
        "  avg_rmse_scaled = np.mean(rmse_scaled_list)\n",
        "\n",
        "  f.write(\"SUMMARY:\\n\")\n",
        "  f.write(f\"Average RMSE without normalization: {avg_rmse_raw:.4f}\\n\")\n",
        "  f.write(f\"Average RMSE with normalization:    {avg_rmse_scaled:.4f}\\n\")\n",
        "  f.write(\"=\" * 40 + \"\\n\")\n",
        "\n",
        "print(f\"Text results saved to {results_file}\")\n",
        "\n",
        "\n",
        "\n"
      ]
    },
    {
      "cell_type": "markdown",
      "metadata": {
        "id": "uOa6o5EI4XES"
      },
      "source": [
        "Check https://drive.google.com/drive/u/0/folders/19eYcVkfGXxd0rdg8hX7dW9Z8oAtk4twC\n",
        "\n",
        "So basically, for FER/Pupil with our without normalization the results (RMSE) is the same but for GSR when using normalization results are not so good => I will not use normalization."
      ]
    },
    {
      "cell_type": "markdown",
      "metadata": {
        "id": "hgMwp6-vH-iM"
      },
      "source": [
        "# Valence"
      ]
    },
    {
      "cell_type": "code",
      "execution_count": null,
      "metadata": {
        "id": "NpnFXQ_pL-Kl"
      },
      "outputs": [],
      "source": [
        "df['FER_Min_Valence'] = 0"
      ]
    },
    {
      "cell_type": "markdown",
      "metadata": {
        "id": "3e6czx4dzcfX"
      },
      "source": [
        "### Each model performance"
      ]
    },
    {
      "cell_type": "code",
      "execution_count": null,
      "metadata": {
        "colab": {
          "base_uri": "https://localhost:8080/"
        },
        "id": "kVdr_mS1zeJp",
        "outputId": "3a780288-4221-4a9a-dde8-f66bafc4a31c"
      },
      "outputs": [
        {
          "name": "stdout",
          "output_type": "stream",
          "text": [
            "\n",
            "=== FINAL METRICS VALENCE ===\n",
            "FER   -> NRMSE: 0.2367, R²: 0.0763, Corr: 0.2818, p: 2.186e-26\n",
            "Pupil -> NRMSE: 0.2411, R²: 0.0421, Corr: 0.2054, p: 1.707e-14\n",
            "GSR   -> NRMSE: 0.4519, R²: -2.3655, Corr: 0.1859, p: 4.224e-12\n"
          ]
        }
      ],
      "source": [
        "participants = df['participant'].unique()\n",
        "\n",
        "# Lists to save the metrics\n",
        "fer_nrmse, fer_r2, fer_corr, fer_p = [], [], [], []\n",
        "pupil_nrmse, pupil_r2, pupil_corr, pupil_p = [], [], [], []\n",
        "gsr_nrmse, gsr_r2, gsr_corr, gsr_p = [], [], [], []\n",
        "\n",
        "# Final predictions lists\n",
        "true_all, pred_fer_all, pred_pupil_all, pred_gsr_all = [], [], [], []\n",
        "\n",
        "\n",
        "for test_pid in participants:\n",
        "    # Get test data for participant\n",
        "    test_data = df[df['participant'] == test_pid].copy()\n",
        "\n",
        "    # Use full GT for test participant\n",
        "    test_gt = gt_full_set[gt_full_set['participant'] == test_pid]\n",
        "    test_data = test_data.merge(test_gt[['participant', 'video', 'Valence']], on=['participant', 'video'], how='inner')\n",
        "\n",
        "    train_data = df[df['participant'] != test_pid].copy()\n",
        "\n",
        "    # Loading the GT excluding the test participant\n",
        "    pid_gt = load_ground_truth_exclude(test_pid)\n",
        "    pid_gt.rename(columns={\"Participant\": \"participant\", \"Stimulus_Name\": \"video\"}, inplace=True)\n",
        "\n",
        "    # Merging the train data with GT\n",
        "    train_data = train_data.merge(pid_gt[['participant', 'video', 'Valence']], on=['participant', 'video'], how='inner')\n",
        "\n",
        "    non_feature_cols = ['participant', 'video']\n",
        "    feature_cols = df_fer.drop(columns=non_feature_cols).select_dtypes(include=[np.number]).columns.tolist()\n",
        "\n",
        "\n",
        "    # FER\n",
        "    X_fer = train_data[fer_features]\n",
        "    y_fer = train_data['Valence']\n",
        "    X_fer_test = test_data[fer_features]\n",
        "    y_fer_test = test_data['Valence']\n",
        "\n",
        "    # Train FER model\n",
        "    model_fer = LinearRegression()\n",
        "    model_fer.fit(X_fer, y_fer)\n",
        "    test_preds_fer = model_fer.predict(X_fer_test)\n",
        "\n",
        "    # Pupil\n",
        "    X_pupil = train_data[pupil_features]\n",
        "    y_pupil = train_data['Valence']\n",
        "    X_pupil_test = test_data[pupil_features]\n",
        "    y_pupil_test = test_data['Valence']\n",
        "\n",
        "    # Train Pupil model\n",
        "    model_pupil = LinearRegression()\n",
        "    model_pupil.fit(X_pupil, y_pupil)\n",
        "    test_preds_pupil = model_pupil.predict(X_pupil_test)\n",
        "\n",
        "    # GSR\n",
        "    X_gsr = train_data[gsr_features]\n",
        "    y_gsr = train_data['Valence']\n",
        "    X_gsr_test = test_data[gsr_features]\n",
        "    y_gsr_test = test_data['Valence']\n",
        "\n",
        "    # Train GSR model\n",
        "    model_gsr = LinearRegression()\n",
        "    model_gsr.fit(X_gsr, y_gsr)\n",
        "    test_preds_gsr = model_gsr.predict(X_gsr_test)\n",
        "\n",
        "     # Store final predictions and true values\n",
        "    true_all.extend(y_fer_test.values)\n",
        "    pred_fer_all.extend(test_preds_fer)\n",
        "    pred_pupil_all.extend(test_preds_pupil)\n",
        "    pred_gsr_all.extend(test_preds_gsr)\n",
        "\n",
        "    # Metrics: FER\n",
        "    range_fer = y_fer_test.max() - y_fer_test.min()\n",
        "    fer_nrmse.append(root_mean_squared_error(y_fer_test, test_preds_fer) / range_fer)\n",
        "    fer_r2.append(r2_score(y_fer_test, test_preds_fer))\n",
        "    corr_fer, pval_fer = pearsonr(y_fer_test, test_preds_fer)\n",
        "    fer_corr.append(corr_fer)\n",
        "    fer_p.append(pval_fer)\n",
        "\n",
        "    # Metrics: Pupil\n",
        "    range_pupil = y_pupil_test.max() - y_pupil_test.min()\n",
        "    pupil_nrmse.append(root_mean_squared_error(y_pupil_test, test_preds_pupil) / range_pupil)\n",
        "    pupil_r2.append(r2_score(y_pupil_test, test_preds_pupil))\n",
        "    corr_pupil, pval_pupil = pearsonr(y_pupil_test, test_preds_pupil)\n",
        "    pupil_corr.append(corr_pupil)\n",
        "    pupil_p.append(pval_pupil)\n",
        "\n",
        "    # Metrics: GSR\n",
        "    range_gsr = y_gsr_test.max() - y_gsr_test.min()\n",
        "    gsr_nrmse.append(root_mean_squared_error(y_gsr_test, test_preds_gsr) / range_gsr)\n",
        "    gsr_r2.append(r2_score(y_gsr_test, test_preds_gsr))\n",
        "    corr_gsr, pval_gsr = pearsonr(y_gsr_test, test_preds_gsr)\n",
        "    gsr_corr.append(corr_gsr)\n",
        "    gsr_p.append(pval_gsr)\n",
        "\n",
        "# Finally combined evaluation across all participants\n",
        "true_all = np.array(true_all)\n",
        "pred_fer_all = np.array(pred_fer_all)\n",
        "pred_pupil_all = np.array(pred_pupil_all)\n",
        "pred_gsr_all = np.array(pred_gsr_all)\n",
        "\n",
        "def compute_final_metrics(y_true, y_pred):\n",
        "    \"\"\" Function to compute final metrics across all participants. \"\"\"\n",
        "    nrmse = root_mean_squared_error(y_true, y_pred) / (y_true.max() - y_true.min())\n",
        "    r2 = r2_score(y_true, y_pred)\n",
        "    corr, pval = pearsonr(y_true, y_pred)\n",
        "    return nrmse, r2, corr, pval\n",
        "\n",
        "fer_final = compute_final_metrics(true_all, pred_fer_all)\n",
        "pupil_final = compute_final_metrics(true_all, pred_pupil_all)\n",
        "gsr_final = compute_final_metrics(true_all, pred_gsr_all)\n",
        "\n",
        "print(\"\\n=== FINAL METRICS VALENCE ===\")\n",
        "print(f\"FER   -> NRMSE: {fer_final[0]:.4f}, R²: {fer_final[1]:.4f}, Corr: {fer_final[2]:.4f}, p: {fer_final[3]:.4g}\")\n",
        "print(f\"Pupil -> NRMSE: {pupil_final[0]:.4f}, R²: {pupil_final[1]:.4f}, Corr: {pupil_final[2]:.4f}, p: {pupil_final[3]:.4g}\")\n",
        "print(f\"GSR   -> NRMSE: {gsr_final[0]:.4f}, R²: {gsr_final[1]:.4f}, Corr: {gsr_final[2]:.4f}, p: {gsr_final[3]:.4g}\")"
      ]
    },
    {
      "cell_type": "code",
      "execution_count": null,
      "metadata": {
        "colab": {
          "base_uri": "https://localhost:8080/"
        },
        "id": "YE4tAtz0zeVO",
        "outputId": "802f11b3-6eb8-4725-9472-9c19c90009ed"
      },
      "outputs": [
        {
          "name": "stdout",
          "output_type": "stream",
          "text": [
            "Saved CSV results to `results/` folder.\n"
          ]
        }
      ],
      "source": [
        "# ---- PER-PARTICIPANT METRICS ---- #\n",
        "metrics_df = pd.DataFrame({\n",
        "    \"participant\": participants,\n",
        "\n",
        "    \"fer_nrmse\": fer_nrmse,\n",
        "    \"fer_r2\": fer_r2,\n",
        "    \"fer_corr\": fer_corr,\n",
        "    \"fer_p\": fer_p,\n",
        "\n",
        "    \"pupil_nrmse\": pupil_nrmse,\n",
        "    \"pupil_r2\": pupil_r2,\n",
        "    \"pupil_corr\": pupil_corr,\n",
        "    \"pupil_p\": pupil_p,\n",
        "\n",
        "    \"gsr_nrmse\": gsr_nrmse,\n",
        "    \"gsr_r2\": gsr_r2,\n",
        "    \"gsr_corr\": gsr_corr,\n",
        "    \"gsr_p\": gsr_p,\n",
        "})\n",
        "\n",
        "# Save to CSV\n",
        "metrics_df.to_csv(os.path.join(results_directory, \"LOPO Regression/valence_each_model_per_participant_metrics.csv\"), index=False)\n",
        "\n",
        "\n",
        "# ---- FINAL SUMMARY ---- #\n",
        "final_df = pd.DataFrame({\n",
        "    \"modality\": [\"FER\", \"Pupil\", \"GSR\"],\n",
        "    \"nrmse\": [fer_final[0], pupil_final[0], gsr_final[0]],\n",
        "    \"r2\":    [fer_final[1], pupil_final[1], gsr_final[1]],\n",
        "    \"corr\":  [fer_final[2], pupil_final[2], gsr_final[2]],\n",
        "    \"p\":     [fer_final[3], pupil_final[3], gsr_final[3]]\n",
        "})\n",
        "\n",
        "final_df.to_csv(os.path.join(results_directory, \"LOPO Regression/valence_each_model_final_summary_metrics.csv\"), index=False)\n",
        "\n",
        "print(\"Saved CSV results to `results/` folder.\")"
      ]
    },
    {
      "cell_type": "markdown",
      "metadata": {
        "id": "6s4H-tWI4wNo"
      },
      "source": [
        "### Fusion model"
      ]
    },
    {
      "cell_type": "code",
      "execution_count": null,
      "metadata": {
        "id": "WFeybYVZ4wNp"
      },
      "outputs": [],
      "source": [
        "def get_train_test_data(df, gt_full_set, test_pid):\n",
        "    \"\"\"Split data into train and test and merge with the correct ground truth.\"\"\"\n",
        "    test_data = df[df['participant'] == test_pid].copy()\n",
        "    test_gt = gt_full_set[gt_full_set['participant'] == test_pid]\n",
        "    test_data = test_data.merge(test_gt[['participant', 'video', 'Valence']], on=['participant', 'video'], how='inner')\n",
        "\n",
        "    train_data = df[df['participant'] != test_pid].copy()\n",
        "\n",
        "    pid_gt = load_ground_truth_exclude(test_pid)\n",
        "    pid_gt.rename(columns={\"Participant\": \"participant\", \"Stimulus_Name\": \"video\"}, inplace=True)\n",
        "    train_data = train_data.merge(pid_gt[['participant', 'video', 'Valence']], on=['participant', 'video'], how='inner')\n",
        "\n",
        "    return train_data, test_data\n",
        "\n",
        "\n",
        "def train_modality_model(train_data, test_data, features):\n",
        "    \"\"\" Train a Linear Regression model on specific modality features.\"\"\"\n",
        "    X_train = train_data[features]\n",
        "    y_train = train_data['Valence']\n",
        "\n",
        "    X_test = test_data[features]\n",
        "    y_test = test_data['Valence']\n",
        "\n",
        "    model = LinearRegression()\n",
        "    model.fit(X_train, y_train)\n",
        "    return model, model.predict(X_train), model.predict(X_test), y_test.values\n",
        "\n",
        "\n",
        "def evaluate_fusion_model(y_true, y_pred):\n",
        "    \"\"\" Calculate evaluation metrics. \"\"\"\n",
        "    rmse = root_mean_squared_error(y_true, y_pred)\n",
        "    nrmse = rmse / (y_true.max() - y_true.min())\n",
        "    r2 = r2_score(y_true, y_pred)\n",
        "    corr, p_val = pearsonr(y_true, y_pred)\n",
        "    return {'NRMSE': nrmse, 'R2': r2, 'corr': corr, 'p': p_val}\n",
        "\n",
        "def get_level1_train_data(train_data, fer_features, pupil_features, gsr_features, val_ratio=0.3):\n",
        "    \"\"\" Create validation set predictions for training the fusion model (level-1). \"\"\"\n",
        "    modality_train, modality_val = train_test_split(train_data, test_size=val_ratio, random_state=42)\n",
        "\n",
        "    # Train each modality model on modality_train\n",
        "    model_fer, _, val_fer, _ = train_modality_model(modality_train, modality_val, fer_features)\n",
        "    model_pupil, _, val_pupil, _ = train_modality_model(modality_train, modality_val, pupil_features)\n",
        "    model_gsr, _, val_gsr, y_val = train_modality_model(modality_train, modality_val, gsr_features)\n",
        "\n",
        "    # Stack predictions to create fusion training input\n",
        "    fusion_X_train = np.vstack([val_fer, val_pupil, val_gsr]).T\n",
        "    fusion_y_train = y_val\n",
        "\n",
        "    return fusion_X_train, fusion_y_train, model_fer, model_pupil, model_gsr\n",
        "\n",
        "def run_participant_loop(df, gt_full_set, fusion_model_cls, fusion_model_kwargs={}):\n",
        "    \"\"\" Loop through each participant, split data, train models and evaluate. \"\"\"\n",
        "    participants = df['participant'].unique()\n",
        "    participant_results = []\n",
        "    fusion_weights = {}\n",
        "    all_fusion_preds, all_true_values, all_test_participants = [], [], []\n",
        "\n",
        "    for test_pid in participants:\n",
        "        train_data, test_data = get_train_test_data(df, gt_full_set, test_pid)\n",
        "\n",
        "        # Get level-1 training data without leakage\n",
        "        fusion_X_train, fusion_y_train, model_fer, model_pupil, model_gsr = get_level1_train_data(\n",
        "            train_data, fer_features, pupil_features, gsr_features\n",
        "        )\n",
        "\n",
        "        # Predict on test set using the trained modality models\n",
        "        _, _, test_fer, y_test = train_modality_model(train_data, test_data, fer_features)\n",
        "        _, _, test_pupil, _ = train_modality_model(train_data, test_data, pupil_features)\n",
        "        _, _, test_gsr, _ = train_modality_model(train_data, test_data, gsr_features)\n",
        "\n",
        "        fusion_X_test = np.vstack([test_fer, test_pupil, test_gsr]).T\n",
        "\n",
        "        # Train and predict with fusion model\n",
        "        model_fusion = fusion_model_cls(**fusion_model_kwargs)\n",
        "        model_fusion.fit(fusion_X_train, fusion_y_train)\n",
        "\n",
        "        fusion_preds = model_fusion.predict(fusion_X_test)\n",
        "\n",
        "        # Store weights if available\n",
        "        if hasattr(model_fusion, 'coef_'):\n",
        "            fusion_weights[test_pid] = model_fusion.coef_\n",
        "\n",
        "        # Evaluate\n",
        "        metrics = evaluate_fusion_model(y_test, fusion_preds)\n",
        "        metrics['participant'] = test_pid\n",
        "        participant_results.append(metrics)\n",
        "\n",
        "        all_fusion_preds.extend(fusion_preds)\n",
        "        all_true_values.extend(y_test)\n",
        "        all_test_participants.extend([test_pid] * len(y_test))\n",
        "\n",
        "    return participant_results, fusion_weights, all_fusion_preds, all_true_values, all_test_participants\n"
      ]
    },
    {
      "cell_type": "code",
      "execution_count": null,
      "metadata": {
        "id": "uhdDChVJ4wNp"
      },
      "outputs": [],
      "source": [
        "def evaluate_global_metrics(y_true, y_pred):\n",
        "    rmse = root_mean_squared_error(y_true, y_pred)\n",
        "    nrmse = rmse / (np.max(y_true) - np.min(y_true))\n",
        "    r2 = r2_score(y_true, y_pred)\n",
        "    corr, p_val = pearsonr(y_true, y_pred)\n",
        "    return {\n",
        "        'RMSE': rmse,\n",
        "        'NRMSE': nrmse,\n",
        "        'R2': r2,\n",
        "        'corr': corr,\n",
        "        'p': p_val\n",
        "    }\n",
        "\n",
        "\n",
        "def print_global_metrics(metrics, title=\"=== Valence Model Overall Global Metrics ===\"):\n",
        "    print(f\"\\n{title}\")\n",
        "    print(f\"Global NRMSE: {metrics['NRMSE']:.4f}\")\n",
        "    print(f\"Global R²: {metrics['R2']:.4f}\")\n",
        "    print(f\"Global corr: {metrics['corr']:.4f}, p = {metrics['p']:.4e}\")\n",
        "\n",
        "\n",
        "def print_fusion_weights_summary(fusion_weights):\n",
        "    if fusion_weights:\n",
        "        weights_df = pd.DataFrame(fusion_weights).T\n",
        "        weights_df.columns = ['FER_weight', 'Pupil_weight', 'GSR_weight']\n",
        "        print(\"\\nAverage Fusion Weights across Participants:\")\n",
        "        print(weights_df.mean().round(4))\n",
        "\n",
        "\n",
        "def print_per_participant_metrics(results_df):\n",
        "    print(\"\\n=== Valence Model Per-Participant Fusion Metrics ===\")\n",
        "    print(results_df.round(4))\n",
        "    summary = results_df[['NRMSE', 'R2', 'corr', 'p']].agg(['mean', 'std'])\n",
        "    print(\"\\n=== Summary Across Participants ===\")\n",
        "    print(summary.round(4))\n",
        "\n",
        "\n",
        "def print_filtered_summary(results_df):\n",
        "    filtered = results_df[\n",
        "        (results_df['R2'] > -1.0) &\n",
        "        (results_df['NRMSE'] < 1.5) &\n",
        "        (results_df['corr'].abs() > 0.2)\n",
        "    ]\n",
        "    summary_filtered = filtered[['NRMSE', 'R2', 'corr', 'p']].agg(['mean', 'std'])\n",
        "    print(\"\\n=== Summary (Excluding Outliers) ===\")\n",
        "    print(summary_filtered.round(4))\n",
        "\n",
        "\n",
        "def run_evaluation_pipeline(df, gt_full_set, model_cls, model_kwargs):\n",
        "    \"\"\" Evaluate the LOPO results. \"\"\"\n",
        "    print(f\"\\n VALENCE Running with Fusion Model: {model_cls.__name__}\")\n",
        "    participant_results, fusion_weights, all_preds, all_true, all_test_participants = run_participant_loop(\n",
        "        df, gt_full_set, model_cls, model_kwargs\n",
        "    )\n",
        "\n",
        "    global_metrics = evaluate_global_metrics(all_true, all_preds)\n",
        "\n",
        "    print_global_metrics(global_metrics)\n",
        "    print_fusion_weights_summary(fusion_weights)\n",
        "\n",
        "    results_df = pd.DataFrame(participant_results)\n",
        "    print_per_participant_metrics(results_df)\n",
        "    print_filtered_summary(results_df)\n",
        "\n",
        "    return results_df, global_metrics"
      ]
    },
    {
      "cell_type": "markdown",
      "metadata": {
        "id": "4yjSgAU14wNp"
      },
      "source": [
        "#### **Linear Regression**\n",
        "\n",
        "---\n",
        "\n"
      ]
    },
    {
      "cell_type": "code",
      "execution_count": null,
      "metadata": {
        "colab": {
          "base_uri": "https://localhost:8080/"
        },
        "id": "JMO9Yy8P4wNq",
        "outputId": "62cbbfbd-e6cd-4efe-b1cb-b4ca81a16054"
      },
      "outputs": [
        {
          "name": "stdout",
          "output_type": "stream",
          "text": [
            "\n",
            "=== Valence Model Overall Global Metrics ===\n",
            "Global NRMSE: 0.3151\n",
            "Global R²: -0.6362\n",
            "Global corr: 0.2199, p = 1.8933e-16\n",
            "\n",
            "Average Fusion Weights across Participants:\n",
            "FER_weight      0.7727\n",
            "Pupil_weight    0.4428\n",
            "GSR_weight      0.4113\n",
            "dtype: float64\n"
          ]
        }
      ],
      "source": [
        "# === Run and Print Results ===\n",
        "fusion_model_cls = LinearRegression\n",
        "fusion_model_kwargs = {}\n",
        "\n",
        "participant_results, fusion_weights, all_fusion_preds, all_true_values, all_test_participants = run_participant_loop(df, gt_full_set, fusion_model_cls, fusion_model_kwargs)\n",
        "\n",
        "global_metrics = evaluate_global_metrics(all_true_values, all_fusion_preds)\n",
        "\n",
        "print_global_metrics(global_metrics)\n",
        "print_fusion_weights_summary(fusion_weights)"
      ]
    },
    {
      "cell_type": "code",
      "execution_count": null,
      "metadata": {
        "colab": {
          "base_uri": "https://localhost:8080/"
        },
        "id": "siQf19lh4wNq",
        "outputId": "e2d0e540-b3ec-474c-9947-ace3096072d8"
      },
      "outputs": [
        {
          "name": "stdout",
          "output_type": "stream",
          "text": [
            "\n",
            "=== Valence Model Per-Participant Fusion Metrics ===\n",
            "     NRMSE       R2    corr       p participant\n",
            "0   0.2459   0.4897  0.7518  0.0000       F5tXL\n",
            "1   0.2925   0.2780  0.6482  0.0000        Gax8\n",
            "2   0.2582   0.4376  0.6755  0.0000       Hx7dO\n",
            "3   0.2956   0.2629  0.6408  0.0000       wohkw\n",
            "4   0.4261  -0.5316  0.5404  0.0005       PPjCX\n",
            "5   0.3432   0.0066  0.6337  0.0000       tMGNS\n",
            "6   0.2474   0.4835  0.7327  0.0000       5KB3V\n",
            "7   0.4560  -0.7545  0.4287  0.0073      EJOiBs\n",
            "8   0.3027   0.2268  0.5074  0.0011        gf5X\n",
            "9   0.3084   0.1977  0.5828  0.0001       gjGzb\n",
            "10  0.3139   0.1686  0.4614  0.0036       LR96S\n",
            "11  0.2906   0.2876  0.6190  0.0000       CoQmx\n",
            "12  0.3224   0.1234  0.3927  0.0147      G5XzoP\n",
            "13  0.3252   0.1079  0.3452  0.0338      XhsN0o\n",
            "14  0.5978  -2.0144  0.6433  0.0000       9FGka\n",
            "15  0.3059   0.2106  0.4881  0.0019      hMHEK1\n",
            "16  0.3035   0.2231  0.5863  0.0001       4FoNM\n",
            "17  0.2847   0.3161  0.5989  0.0001       8vDRG\n",
            "18  0.2775   0.3504  0.7558  0.0000       NMy2s\n",
            "19  0.3155   0.1600  0.4717  0.0028       WQzBV\n",
            "20  0.4211  -0.4962  0.3500  0.0312      Cr1sTi\n",
            "21  0.3263   0.1019  0.4369  0.0061     EXAMPLE\n",
            "22  0.2928   0.2765  0.5326  0.0006       Gftw5\n",
            "23  0.2944   0.2688  0.5282  0.0007       6GSd4\n",
            "24  1.9887 -32.3633  0.2163  0.1922       D9Hh9\n",
            "25  0.3365   0.0449  0.3037  0.0638       F8mDn\n",
            "26  0.3309   0.0760  0.3078  0.0602      KoG5ii\n",
            "27  0.2988   0.2470  0.5380  0.0005       M4t7k\n",
            "28  0.3202   0.1353  0.4325  0.0067       yb3T2\n",
            "29  0.3345   0.0560  0.3660  0.0238       O1pGR\n",
            "30  0.3321   0.0694  0.2767  0.0927       VckNZ\n",
            "31  0.3394   0.0284  0.1893  0.2550       G4Egk\n",
            "32  0.3372   0.0411  0.3428  0.0351       urJvc\n",
            "33  0.2838   0.3205  0.5972  0.0001      Fjil72\n",
            "34  0.3397   0.0266  0.2583  0.1175      Pi9803\n",
            "35  0.3337   0.0603  0.2994  0.0679       KWgkc\n",
            "\n",
            "=== Summary Across Participants ===\n",
            "       NRMSE      R2    corr       p\n",
            "mean  0.3729 -0.8355  0.4856  0.0283\n",
            "std   0.2842  5.4226  0.1565  0.0566\n"
          ]
        }
      ],
      "source": [
        "results_df = pd.DataFrame(participant_results)\n",
        "print_per_participant_metrics(results_df)"
      ]
    },
    {
      "cell_type": "markdown",
      "metadata": {
        "id": "Rju84TxQ66ub"
      },
      "source": [
        "*   Mean correlation (0.4856) is decent, indicating the model captures some trend.\n",
        "*   Mean R² is negative, which signals poor model fit overall — the model often performs worse than a horizontal mean line.\n",
        "*   High variance in R² (std = 5.4226) is a strong red flag for inconsistency across participants.\n",
        "*   A few participants like D9Hh9, Cr1sTi, and 9FGka have extreme NRMSE and negative R², suggesting outlier-like behavior.\n",
        "\n",
        "\n",
        "\n"
      ]
    },
    {
      "cell_type": "markdown",
      "metadata": {
        "id": "h9qktv314wNq"
      },
      "source": [
        "**Flag and Exclude Extreme Outliers for Summary Stats**\n",
        "\n"
      ]
    },
    {
      "cell_type": "code",
      "execution_count": null,
      "metadata": {
        "colab": {
          "base_uri": "https://localhost:8080/"
        },
        "id": "SR2nGDie4wNr",
        "outputId": "6d5eb424-a7bf-4372-bbb8-1a5e328cc0e6"
      },
      "outputs": [
        {
          "name": "stdout",
          "output_type": "stream",
          "text": [
            "\n",
            "=== Summary (Excluding Outliers) ===\n",
            "       NRMSE      R2    corr       p\n",
            "mean  0.3181  0.1295  0.4979  0.0174\n",
            "std   0.0454  0.2675  0.1443  0.0301\n"
          ]
        }
      ],
      "source": [
        "print_filtered_summary(results_df)"
      ]
    },
    {
      "cell_type": "markdown",
      "metadata": {
        "id": "-yBxtqls4wNr"
      },
      "source": [
        "**Investigate the Outliers**\n",
        "\n"
      ]
    },
    {
      "cell_type": "code",
      "execution_count": null,
      "metadata": {
        "colab": {
          "base_uri": "https://localhost:8080/"
        },
        "id": "nqk2i-iq4wNr",
        "outputId": "5e5c5cf6-532a-4528-9aab-4d6d0cfa71d9"
      },
      "outputs": [
        {
          "data": {
            "image/png": "[encoded data removed]",
            "text/plain": [
              "<Figure size 800x400 with 1 Axes>"
            ]
          },
          "metadata": {},
          "output_type": "display_data"
        }
      ],
      "source": [
        "import matplotlib.pyplot as plt\n",
        "\n",
        "bad_pid = 'D9Hh9'\n",
        "mask = np.array(all_test_participants) == bad_pid\n",
        "plt.figure(figsize=(8, 4))\n",
        "plt.plot(np.array(all_true_values)[mask], label='True')\n",
        "plt.plot(np.array(all_fusion_preds)[mask], label='Predicted')\n",
        "plt.title(f'Participant {bad_pid} - Valence')\n",
        "plt.legend()\n",
        "plt.show()\n"
      ]
    },
    {
      "cell_type": "markdown",
      "metadata": {
        "id": "TT3j4ryO4wNr"
      },
      "source": [
        "#### **Ridge regression**\n",
        "\n",
        "---\n",
        "\n"
      ]
    },
    {
      "cell_type": "code",
      "execution_count": null,
      "metadata": {
        "colab": {
          "base_uri": "https://localhost:8080/"
        },
        "id": "3scDnPTE4wNr",
        "outputId": "ecdb07f8-5ecc-4059-a62e-e503b60cce0b"
      },
      "outputs": [
        {
          "name": "stdout",
          "output_type": "stream",
          "text": [
            "\n",
            " VALENCE Running with Fusion Model: Ridge\n",
            "\n",
            "=== Valence Model Overall Global Metrics ===\n",
            "Global NRMSE: 0.3112\n",
            "Global R²: -0.5958\n",
            "Global corr: 0.2093, p = 5.2765e-15\n",
            "\n",
            "Average Fusion Weights across Participants:\n",
            "FER_weight      0.6647\n",
            "Pupil_weight    0.3485\n",
            "GSR_weight      0.4003\n",
            "dtype: float64\n",
            "\n",
            "=== Valence Model Per-Participant Fusion Metrics ===\n",
            "     NRMSE       R2    corr       p participant\n",
            "0   0.2557   0.4486  0.7414  0.0000       F5tXL\n",
            "1   0.2933   0.2741  0.6537  0.0000        Gax8\n",
            "2   0.2620   0.4211  0.6739  0.0000       Hx7dO\n",
            "3   0.2988   0.2470  0.6254  0.0000       wohkw\n",
            "4   0.3962  -0.3244  0.5480  0.0004       PPjCX\n",
            "5   0.3326   0.0669  0.6368  0.0000       tMGNS\n",
            "6   0.2554   0.4495  0.7263  0.0000       5KB3V\n",
            "7   0.4287  -0.5505  0.4318  0.0068      EJOiBs\n",
            "8   0.3024   0.2284  0.5161  0.0009        gf5X\n",
            "9   0.3089   0.1952  0.5931  0.0001       gjGzb\n",
            "10  0.3149   0.1636  0.4631  0.0034       LR96S\n",
            "11  0.2899   0.2908  0.6191  0.0000       CoQmx\n",
            "12  0.3179   0.1473  0.4133  0.0099      G5XzoP\n",
            "13  0.3256   0.1058  0.3425  0.0353      XhsN0o\n",
            "14  0.5487  -1.5403  0.6419  0.0000       9FGka\n",
            "15  0.3042   0.2192  0.4890  0.0018      hMHEK1\n",
            "16  0.3044   0.2182  0.5874  0.0001       4FoNM\n",
            "17  0.2862   0.3090  0.5987  0.0001       8vDRG\n",
            "18  0.2826   0.3263  0.7599  0.0000       NMy2s\n",
            "19  0.3160   0.1578  0.4735  0.0027       WQzBV\n",
            "20  0.4239  -0.5159  0.3266  0.0454      Cr1sTi\n",
            "21  0.3268   0.0991  0.4310  0.0069     EXAMPLE\n",
            "22  0.2922   0.2797  0.5466  0.0004       Gftw5\n",
            "23  0.2929   0.2763  0.5304  0.0006       6GSd4\n",
            "24  1.9363 -30.6301  0.2155  0.1938       D9Hh9\n",
            "25  0.3375   0.0393  0.3174  0.0522       F8mDn\n",
            "26  0.3323   0.0685  0.3067  0.0611      KoG5ii\n",
            "27  0.3024   0.2284  0.5387  0.0005       M4t7k\n",
            "28  0.3231   0.1193  0.4342  0.0064       yb3T2\n",
            "29  0.3359   0.0481  0.3767  0.0198       O1pGR\n",
            "30  0.3307   0.0772  0.2796  0.0891       VckNZ\n",
            "31  0.3388   0.0317  0.2038  0.2197       G4Egk\n",
            "32  0.3307   0.0772  0.3442  0.0344       urJvc\n",
            "33  0.2851   0.3145  0.6029  0.0001      Fjil72\n",
            "34  0.3358   0.0486  0.2613  0.1130      Pi9803\n",
            "35  0.3350   0.0531  0.3066  0.0612       KWgkc\n",
            "\n",
            "=== Summary Across Participants ===\n",
            "       NRMSE      R2    corr       p\n",
            "mean  0.3690 -0.7648  0.4877  0.0268\n",
            "std   0.2741  5.1321  0.1547  0.0524\n",
            "\n",
            "=== Summary (Excluding Outliers) ===\n",
            "       NRMSE      R2    corr       p\n",
            "mean  0.3176  0.1364  0.4912  0.0227\n",
            "std   0.0391  0.2254  0.1497  0.0450\n"
          ]
        }
      ],
      "source": [
        "# Try Ridge\n",
        "results_ridge, metrics_ridge = run_evaluation_pipeline(df, gt_full_set, Ridge, {'alpha': 1.0})"
      ]
    },
    {
      "cell_type": "markdown",
      "metadata": {
        "id": "1EBn3SCDM-Jl"
      },
      "source": [
        "#### **RandomForestRegressor**\n",
        "\n",
        "---\n",
        "\n"
      ]
    },
    {
      "cell_type": "code",
      "execution_count": null,
      "metadata": {
        "colab": {
          "base_uri": "https://localhost:8080/"
        },
        "id": "PZ6eR9N04wNr",
        "outputId": "7a58459b-d13a-476d-94b7-f12bdabbf97a"
      },
      "outputs": [
        {
          "name": "stdout",
          "output_type": "stream",
          "text": [
            "\n",
            " VALENCE Running with Fusion Model: RandomForestRegressor\n",
            "\n",
            "=== Valence Model Overall Global Metrics ===\n",
            "Global NRMSE: 0.2226\n",
            "Global R²: 0.1834\n",
            "Global corr: 0.4677, p = 2.7844e-75\n",
            "\n",
            "=== Valence Model Per-Participant Fusion Metrics ===\n",
            "     NRMSE      R2    corr       p participant\n",
            "0   0.2908  0.2865  0.5382  0.0005       F5tXL\n",
            "1   0.2954  0.2641  0.6053  0.0001        Gax8\n",
            "2   0.2507  0.4700  0.7020  0.0000       Hx7dO\n",
            "3   0.2765  0.3550  0.6478  0.0000       wohkw\n",
            "4   0.3990 -0.3433  0.5394  0.0005       PPjCX\n",
            "5   0.5165 -1.2504  0.2250  0.1744       tMGNS\n",
            "6   0.2665  0.4009  0.6612  0.0000       5KB3V\n",
            "7   0.5198 -1.2795  0.3801  0.0186      EJOiBs\n",
            "8   0.3487 -0.0260  0.3476  0.0325        gf5X\n",
            "9   0.3293  0.0849  0.3612  0.0259       gjGzb\n",
            "10  0.2833  0.3227  0.5953  0.0001       LR96S\n",
            "11  0.3562 -0.0703  0.4593  0.0037       CoQmx\n",
            "12  0.3630 -0.1117  0.2743  0.0956      G5XzoP\n",
            "13  0.3135  0.1706  0.4148  0.0096      XhsN0o\n",
            "14  0.7073 -3.2202  0.4801  0.0023       9FGka\n",
            "15  0.2893  0.2940  0.5744  0.0002      hMHEK1\n",
            "16  0.3117  0.1802  0.4267  0.0076       4FoNM\n",
            "17  0.3013  0.2343  0.5056  0.0012       8vDRG\n",
            "18  0.2659  0.4035  0.7593  0.0000       NMy2s\n",
            "19  0.3202  0.1351  0.3744  0.0206       WQzBV\n",
            "20  0.3751 -0.1868  0.3274  0.0448      Cr1sTi\n",
            "21  0.3775 -0.2021  0.2378  0.1505     EXAMPLE\n",
            "22  0.2699  0.3854  0.6305  0.0000       Gftw5\n",
            "23  0.3562 -0.0706  0.4397  0.0057       6GSd4\n",
            "24  0.3198  0.1370  0.4202  0.0086       D9Hh9\n",
            "25  0.3024  0.2285  0.5036  0.0013       F8mDn\n",
            "26  0.2908  0.2867  0.5983  0.0001      KoG5ii\n",
            "27  0.2398  0.5149  0.7392  0.0000       M4t7k\n",
            "28  0.2667  0.3999  0.6382  0.0000       yb3T2\n",
            "29  0.3251  0.1086  0.4695  0.0029       O1pGR\n",
            "30  0.3404  0.0223  0.4197  0.0087       VckNZ\n",
            "31  0.3303  0.0797  0.6357  0.0000       G4Egk\n",
            "32  0.2726  0.3731  0.7015  0.0000       urJvc\n",
            "33  0.2445  0.4956  0.7170  0.0000      Fjil72\n",
            "34  0.3141  0.1679  0.5473  0.0004      Pi9803\n",
            "35  0.3280  0.0925  0.4558  0.0040       KWgkc\n",
            "\n",
            "=== Summary Across Participants ===\n",
            "       NRMSE      R2    corr       p\n",
            "mean  0.3322  0.0037  0.5098  0.0172\n",
            "std   0.0893  0.6784  0.1438  0.0401\n",
            "\n",
            "=== Summary (Excluding Outliers) ===\n",
            "       NRMSE      R2    corr       p\n",
            "mean  0.3095  0.1783  0.5233  0.0129\n",
            "std   0.0405  0.2157  0.1391  0.0310\n"
          ]
        }
      ],
      "source": [
        "# Try Random Forest\n",
        "results_rf, metrics_rf = run_evaluation_pipeline(df, gt_full_set, RandomForestRegressor, {'n_estimators': 100, 'random_state': 42})"
      ]
    },
    {
      "cell_type": "markdown",
      "metadata": {
        "id": "abZHRSj-pZec"
      },
      "source": [
        "#### **Gradient Boosting Regressor**\n",
        "\n",
        "---\n",
        "\n"
      ]
    },
    {
      "cell_type": "code",
      "execution_count": null,
      "metadata": {
        "colab": {
          "base_uri": "https://localhost:8080/"
        },
        "id": "ubIfYBz1pgGj",
        "outputId": "329ecc17-889d-4ee6-e2b0-6ac9054d6b03"
      },
      "outputs": [
        {
          "name": "stdout",
          "output_type": "stream",
          "text": [
            "\n",
            " VALENCE Running with Fusion Model: GradientBoostingRegressor\n",
            "\n",
            "=== Valence Model Overall Global Metrics ===\n",
            "Global NRMSE: 0.2197\n",
            "Global R²: 0.2045\n",
            "Global corr: 0.4812, p = 3.2475e-80\n",
            "\n",
            "=== Valence Model Per-Participant Fusion Metrics ===\n",
            "     NRMSE      R2    corr       p participant\n",
            "0   0.2598  0.4304  0.6679  0.0000       F5tXL\n",
            "1   0.2851  0.3141  0.6346  0.0000        Gax8\n",
            "2   0.2371  0.5259  0.7431  0.0000       Hx7dO\n",
            "3   0.3001  0.2402  0.5925  0.0001       wohkw\n",
            "4   0.3794 -0.2146  0.5460  0.0004       PPjCX\n",
            "5   0.4008 -0.3549  0.5368  0.0005       tMGNS\n",
            "6   0.2378  0.5230  0.7589  0.0000       5KB3V\n",
            "7   0.6076 -2.1148  0.3012  0.0661      EJOiBs\n",
            "8   0.3323  0.0682  0.3683  0.0229        gf5X\n",
            "9   0.3327  0.0661  0.3397  0.0369       gjGzb\n",
            "10  0.2889  0.2958  0.6105  0.0000       LR96S\n",
            "11  0.3537 -0.0555  0.4384  0.0059       CoQmx\n",
            "12  0.3250  0.1090  0.4658  0.0032      G5XzoP\n",
            "13  0.3268  0.0990  0.3198  0.0503      XhsN0o\n",
            "14  0.8159 -4.6154  0.4455  0.0051       9FGka\n",
            "15  0.2713  0.3790  0.6239  0.0000      hMHEK1\n",
            "16  0.2878  0.3011  0.5564  0.0003       4FoNM\n",
            "17  0.3058  0.2112  0.4956  0.0016       8vDRG\n",
            "18  0.2760  0.3575  0.7401  0.0000       NMy2s\n",
            "19  0.3474 -0.0179  0.2214  0.1816       WQzBV\n",
            "20  0.3638 -0.1163  0.3745  0.0205      Cr1sTi\n",
            "21  0.3668 -0.1351  0.3177  0.0520     EXAMPLE\n",
            "22  0.2696  0.3867  0.6251  0.0000       Gftw5\n",
            "23  0.3317  0.0716  0.4942  0.0016       6GSd4\n",
            "24  0.3199  0.1365  0.4295  0.0071       D9Hh9\n",
            "25  0.3045  0.2177  0.4835  0.0021       F8mDn\n",
            "26  0.2888  0.2966  0.5967  0.0001      KoG5ii\n",
            "27  0.2356  0.5319  0.7492  0.0000       M4t7k\n",
            "28  0.2559  0.4474  0.6810  0.0000       yb3T2\n",
            "29  0.3346  0.0554  0.3498  0.0314       O1pGR\n",
            "30  0.3196  0.1381  0.4942  0.0016       VckNZ\n",
            "31  0.3601 -0.0938  0.5409  0.0005       G4Egk\n",
            "32  0.2905  0.2882  0.6730  0.0000       urJvc\n",
            "33  0.2337  0.5394  0.7466  0.0000      Fjil72\n",
            "34  0.3164  0.1555  0.4884  0.0019      Pi9803\n",
            "35  0.2935  0.2735  0.5556  0.0003       KWgkc\n",
            "\n",
            "=== Summary Across Participants ===\n",
            "       NRMSE      R2    corr       p\n",
            "mean  0.3293 -0.0072  0.5280  0.0137\n",
            "std   0.1060  0.9054  0.1452  0.0335\n",
            "\n",
            "=== Summary (Excluding Outliers) ===\n",
            "       NRMSE      R2    corr       p\n",
            "mean  0.3068  0.1903  0.5370  0.0124\n",
            "std   0.0433  0.2262  0.1432  0.0332\n"
          ]
        }
      ],
      "source": [
        "# Try Gradient Boosting Regressor\n",
        "results_rf, metrics_rf = run_evaluation_pipeline(df, gt_full_set, GradientBoostingRegressor, {'n_estimators': 100, 'learning_rate': 0.1, 'max_depth':3, 'random_state': 42})"
      ]
    },
    {
      "cell_type": "markdown",
      "metadata": {
        "id": "1GBo2Xyt3INS"
      },
      "source": [
        "#### **SVR Support Vector Regression**\n",
        "\n",
        "---\n",
        "\n"
      ]
    },
    {
      "cell_type": "code",
      "execution_count": null,
      "metadata": {
        "colab": {
          "base_uri": "https://localhost:8080/"
        },
        "id": "vL731XjC3IYR",
        "outputId": "59c503ec-4aa9-4bd1-a9fa-ad0a1cc51e02"
      },
      "outputs": [
        {
          "name": "stdout",
          "output_type": "stream",
          "text": [
            "\n",
            " VALENCE Running with Fusion Model: SVR\n",
            "\n",
            "=== Valence Model Overall Global Metrics ===\n",
            "Global NRMSE: 0.2155\n",
            "Global R²: 0.2348\n",
            "Global corr: 0.5039, p = 5.3548e-89\n",
            "\n",
            "=== Valence Model Per-Participant Fusion Metrics ===\n",
            "     NRMSE      R2    corr       p participant\n",
            "0   0.2519  0.4648  0.6882  0.0000       F5tXL\n",
            "1   0.2813  0.3322  0.6258  0.0000        Gax8\n",
            "2   0.2370  0.5262  0.7362  0.0000       Hx7dO\n",
            "3   0.2842  0.3186  0.6090  0.0000       wohkw\n",
            "4   0.3625 -0.1087  0.5918  0.0001       PPjCX\n",
            "5   0.4255 -0.5277  0.5339  0.0006       tMGNS\n",
            "6   0.2490  0.4769  0.6960  0.0000       5KB3V\n",
            "7   0.5181 -1.2644  0.3623  0.0254      EJOiBs\n",
            "8   0.3216  0.1276  0.4471  0.0049        gf5X\n",
            "9   0.2825  0.3266  0.6060  0.0001       gjGzb\n",
            "10  0.2939  0.2711  0.5330  0.0006       LR96S\n",
            "11  0.3248  0.1102  0.5177  0.0009       CoQmx\n",
            "12  0.3012  0.2347  0.5244  0.0007      G5XzoP\n",
            "13  0.3107  0.1855  0.4381  0.0059      XhsN0o\n",
            "14  0.9116 -6.0114  0.5442  0.0004       9FGka\n",
            "15  0.2771  0.3521  0.6182  0.0000      hMHEK1\n",
            "16  0.2707  0.3819  0.6312  0.0000       4FoNM\n",
            "17  0.2847  0.3160  0.5798  0.0001       8vDRG\n",
            "18  0.2877  0.3019  0.6649  0.0000       NMy2s\n",
            "19  0.3322  0.0690  0.4078  0.0110       WQzBV\n",
            "20  0.3725 -0.1703  0.2848  0.0831      Cr1sTi\n",
            "21  0.3637 -0.1160  0.2618  0.1124     EXAMPLE\n",
            "22  0.2678  0.3951  0.6351  0.0000       Gftw5\n",
            "23  0.3297  0.0827  0.4978  0.0015       6GSd4\n",
            "24  0.2817  0.3306  0.5755  0.0002       D9Hh9\n",
            "25  0.2974  0.2537  0.5541  0.0003       F8mDn\n",
            "26  0.2883  0.2989  0.5943  0.0001      KoG5ii\n",
            "27  0.2716  0.3775  0.6293  0.0000       M4t7k\n",
            "28  0.2800  0.3388  0.5823  0.0001       yb3T2\n",
            "29  0.3183  0.1455  0.5234  0.0007       O1pGR\n",
            "30  0.2912  0.2845  0.5636  0.0002       VckNZ\n",
            "31  0.2964  0.2590  0.6079  0.0001       G4Egk\n",
            "32  0.2967  0.2571  0.5984  0.0001       urJvc\n",
            "33  0.2527  0.4613  0.7023  0.0000      Fjil72\n",
            "34  0.2966  0.2580  0.5258  0.0007      Pi9803\n",
            "35  0.3474 -0.0182  0.3624  0.0254       KWgkc\n",
            "\n",
            "=== Summary Across Participants ===\n",
            "       NRMSE      R2    corr       p\n",
            "mean  0.3239  0.0089  0.5515  0.0077\n",
            "std   0.1137  1.0818  0.1114  0.0232\n",
            "\n",
            "=== Summary (Excluding Outliers) ===\n",
            "       NRMSE      R2    corr       p\n",
            "mean  0.3009  0.2234  0.5573  0.0073\n",
            "std   0.0394  0.2153  0.1097  0.0237\n"
          ]
        }
      ],
      "source": [
        "# Try SVR\n",
        "results_rf, metrics_rf = run_evaluation_pipeline(df, gt_full_set, SVR, {'kernel':'rbf', 'C':1.0, 'epsilon':0.1})"
      ]
    }
  ],
  "metadata": {
    "colab": {
      "provenance": []
    },
    "kernelspec": {
      "display_name": "Python 3",
      "name": "python3"
    },
    "language_info": {
      "name": "python"
    }
  },
  "nbformat": 4,
  "nbformat_minor": 0
}
