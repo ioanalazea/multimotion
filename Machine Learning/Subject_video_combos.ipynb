{
  "cells": [
    {
      "cell_type": "markdown",
      "metadata": {
        "id": "aCa4SRmgXD41"
      },
      "source": [
        "**Subject-video combinations - statistics**\n",
        "\n",
        "---\n",
        "\n",
        " - [ ] there are video/subject combinations for which pupil is better\n",
        " - [ ] there are video/subject combinations for which gsr is better\n",
        " - [ ] there are video/subject combinations for which pupil+gsr is better than pupil alone\n",
        " - [ ] there are video/subject combinations for which pupil+gsr is better than gsr alone\n",
        " - [ ] there are video/subject combinations for which pupil+gsr is equal than pupil alone\n",
        " - [ ] there are video/subject combinations for which pupil+gsr is equalr than grs alone\n",
        " - [ ] there are video/subject combinations for which pupil+gsr is worse than pupil alone\n",
        " - [ ] there are video/subject combinations for which pupil+gsr is worse than gsr alone"
      ]
    },
    {
      "cell_type": "code",
      "execution_count": null,
      "metadata": {
        "colab": {
          "base_uri": "https://localhost:8080/"
        },
        "id": "ZCPQpIDVBmHW",
        "outputId": "6761ce8c-b3c3-4310-c055-e04b230045b3"
      },
      "outputs": [
        {
          "name": "stdout",
          "output_type": "stream",
          "text": [
            "Mounted at /content/drive\n"
          ]
        }
      ],
      "source": [
        "from google.colab import drive\n",
        "drive.mount('/content/drive')\n"
      ]
    },
    {
      "cell_type": "code",
      "execution_count": null,
      "metadata": {
        "id": "8WDkXLAhGbtx"
      },
      "outputs": [],
      "source": [
        "import pandas as pd\n",
        "import os\n",
        "import numpy as np"
      ]
    },
    {
      "cell_type": "code",
      "execution_count": null,
      "metadata": {
        "id": "BQK26ohMBwzE"
      },
      "outputs": [],
      "source": [
        "# Defining the directoryies\n",
        "home_directory = r\"/content/drive/MyDrive/Data-Multimotion\""
      ]
    },
    {
      "cell_type": "markdown",
      "metadata": {
        "id": "PdOfS-X2EYrS"
      },
      "source": [
        "# Arousal"
      ]
    },
    {
      "cell_type": "code",
      "execution_count": null,
      "metadata": {
        "id": "IPCInU1DBw6J"
      },
      "outputs": [],
      "source": [
        "# Reading the arousal nrmse per video\n",
        "arousal =  pd.read_csv(os.path.join(home_directory, \"nrmse_per_video_arousal.csv\"))"
      ]
    },
    {
      "cell_type": "code",
      "execution_count": null,
      "metadata": {
        "id": "nhzlFQOkBw8S"
      },
      "outputs": [],
      "source": [
        "pupil_arousal = arousal[arousal['Modality']==\"Pupil\"]\n",
        "gsr_arousal = arousal[arousal['Modality']==\"GSR\"]\n",
        "\n",
        "fusion_arousal = pd.read_csv(os.path.join(home_directory, \"nrmse_per_video_fusion_arousal.csv\"))"
      ]
    },
    {
      "cell_type": "code",
      "execution_count": null,
      "metadata": {
        "id": "6vNSW4ncJRzR"
      },
      "outputs": [],
      "source": [
        "# Rename NRMSE columns for clarity\n",
        "pupil_df = pupil_arousal.rename(columns={\"NRMSE\": \"NRMSE_pupil\"})\n",
        "gsr_df = gsr_arousal.rename(columns={\"NRMSE\": \"NRMSE_gsr\"})\n",
        "fusion_df = fusion_arousal.rename(columns={\"NRMSE\": \"NRMSE_fusion\"})\n",
        "\n",
        "# Drop Modality column\n",
        "pupil_df = pupil_df.drop(columns=[\"Modality\"])\n",
        "gsr_df = gsr_df.drop(columns=[\"Modality\"])\n",
        "fusion_df = fusion_df.drop(columns=[\"Modality\"])\n",
        "\n",
        "# Merge all three on Participant and Video\n",
        "merged_df = pupil_df.merge(gsr_df, on=[\"Participant\", \"Video\"]).merge(fusion_df, on=[\"Participant\", \"Video\"])"
      ]
    },
    {
      "cell_type": "code",
      "execution_count": null,
      "metadata": {
        "id": "QYFvTGwEJSml"
      },
      "outputs": [],
      "source": [
        "# Comparison of pupil vs gsr\n",
        "merged_df[\"pupil_better_than_gsr\"] = merged_df[\"NRMSE_pupil\"] < merged_df[\"NRMSE_gsr\"]\n",
        "merged_df[\"gsr_better_than_pupil\"] = merged_df[\"NRMSE_gsr\"] < merged_df[\"NRMSE_pupil\"]\n",
        "\n",
        "# Fusion vs pupil\n",
        "merged_df[\"fusion_better_than_pupil\"] = merged_df[\"NRMSE_fusion\"] < merged_df[\"NRMSE_pupil\"]\n",
        "merged_df[\"fusion_equal_to_pupil\"] = np.isclose(merged_df[\"NRMSE_fusion\"], merged_df[\"NRMSE_pupil\"])\n",
        "merged_df[\"fusion_worse_than_pupil\"] = merged_df[\"NRMSE_fusion\"] > merged_df[\"NRMSE_pupil\"]\n",
        "\n",
        "# Fusion vs gsr\n",
        "merged_df[\"fusion_better_than_gsr\"] = merged_df[\"NRMSE_fusion\"] < merged_df[\"NRMSE_gsr\"]\n",
        "merged_df[\"fusion_equal_to_gsr\"] = np.isclose(merged_df[\"NRMSE_fusion\"], merged_df[\"NRMSE_gsr\"])\n",
        "merged_df[\"fusion_worse_than_gsr\"] = merged_df[\"NRMSE_fusion\"] > merged_df[\"NRMSE_gsr\"]\n"
      ]
    },
    {
      "cell_type": "code",
      "execution_count": null,
      "metadata": {
        "id": "4397TWAgJXGt"
      },
      "outputs": [],
      "source": [
        "summary = {\n",
        "    \"pupil_better_than_gsr\": merged_df[\"pupil_better_than_gsr\"].sum(),\n",
        "    \"gsr_better_than_pupil\": merged_df[\"gsr_better_than_pupil\"].sum(),\n",
        "    \"fusion_better_than_pupil\": merged_df[\"fusion_better_than_pupil\"].sum(),\n",
        "    \"fusion_equal_to_pupil\": merged_df[\"fusion_equal_to_pupil\"].sum(),\n",
        "    \"fusion_worse_than_pupil\": merged_df[\"fusion_worse_than_pupil\"].sum(),\n",
        "    \"fusion_better_than_gsr\": merged_df[\"fusion_better_than_gsr\"].sum(),\n",
        "    \"fusion_equal_to_gsr\": merged_df[\"fusion_equal_to_gsr\"].sum(),\n",
        "    \"fusion_worse_than_gsr\": merged_df[\"fusion_worse_than_gsr\"].sum(),\n",
        "}"
      ]
    },
    {
      "cell_type": "code",
      "execution_count": null,
      "metadata": {
        "colab": {
          "base_uri": "https://localhost:8080/"
        },
        "id": "TpzUybf4JaxV",
        "outputId": "fcaeb7fe-8754-4ed7-ce94-37857eb7829a"
      },
      "outputs": [
        {
          "name": "stdout",
          "output_type": "stream",
          "text": [
            "------AROUSAL------\n",
            "\n",
            "Out of 1719 subject-video combinations:\n",
            "\n",
            "pupil_better_than_gsr: 686\n",
            "gsr_better_than_pupil: 1033\n",
            "fusion_better_than_pupil: 976\n",
            "fusion_equal_to_pupil: 0\n",
            "fusion_worse_than_pupil: 743\n",
            "fusion_better_than_gsr: 719\n",
            "fusion_equal_to_gsr: 0\n",
            "fusion_worse_than_gsr: 1000\n"
          ]
        }
      ],
      "source": [
        "print(\"------AROUSAL------\\n\")\n",
        "print(f'Out of {len(fusion_arousal)} subject-video combinations:\\n')\n",
        "for k, v in summary.items():\n",
        "    print(f\"{k}: {v}\")"
      ]
    },
    {
      "cell_type": "markdown",
      "metadata": {
        "id": "iVDDq4HMXmem"
      },
      "source": [
        "We want to save which subject-video combinatios for the counts above."
      ]
    },
    {
      "cell_type": "code",
      "execution_count": null,
      "metadata": {
        "id": "LsWpoejMA4X8"
      },
      "outputs": [],
      "source": [
        "# Define the directories\n",
        "home_directory = r\"/content/drive/MyDrive/Data-Multimotion\"\n",
        "output_dir = os.path.join(home_directory, \"comparison_results\", \"arousal\")\n",
        "os.makedirs(output_dir, exist_ok=True)\n",
        "\n",
        "# Save the specific cases for each condition\n",
        "conditions = [\n",
        "    \"pupil_better_than_gsr\",\n",
        "    \"gsr_better_than_pupil\",\n",
        "    \"fusion_better_than_pupil\",\n",
        "    \"fusion_equal_to_pupil\",\n",
        "    \"fusion_worse_than_pupil\",\n",
        "    \"fusion_better_than_gsr\",\n",
        "    \"fusion_equal_to_gsr\",\n",
        "    \"fusion_worse_than_gsr\"\n",
        "]\n",
        "\n",
        "for cond in conditions:\n",
        "    subset = merged_df.loc[merged_df[cond], [\"Participant\", \"Video\", \"NRMSE_pupil\", \"NRMSE_gsr\", \"NRMSE_fusion\"]]\n",
        "    subset.to_csv(os.path.join(output_dir, f\"{cond}.csv\"), index=False)\n",
        "\n",
        "# Summary dictionary\n",
        "summary = {cond: merged_df[cond].sum() for cond in conditions}\n",
        "\n",
        "# Save summary CSV\n",
        "pd.DataFrame.from_dict(summary, orient=\"index\", columns=[\"count\"]).to_csv(os.path.join(output_dir, \"summary.csv\"))\n"
      ]
    },
    {
      "cell_type": "markdown",
      "metadata": {
        "id": "F4Bu8JJbEaGo"
      },
      "source": [
        "# Valence"
      ]
    },
    {
      "cell_type": "code",
      "execution_count": null,
      "metadata": {
        "id": "Bu1EvqEkEaxA"
      },
      "outputs": [],
      "source": [
        "# Reading the valence nrmse per video\n",
        "valence =  pd.read_csv(os.path.join(home_directory, \"nrmse_per_video_valence.csv\"))"
      ]
    },
    {
      "cell_type": "code",
      "execution_count": null,
      "metadata": {
        "id": "2ctpTjqTEa6E"
      },
      "outputs": [],
      "source": [
        "pupil_valence = valence[valence['Modality']==\"Pupil\"]\n",
        "gsr_valence = valence[valence['Modality']==\"GSR\"]\n",
        "\n",
        "fusion_valence = pd.read_csv(os.path.join(home_directory, \"nrmse_per_video_fusion_valence.csv\"))"
      ]
    },
    {
      "cell_type": "code",
      "execution_count": null,
      "metadata": {
        "id": "8XiIAHTFEa8v"
      },
      "outputs": [],
      "source": [
        "# Rename NRMSE columns for clarity\n",
        "pupil_df = pupil_valence.rename(columns={\"NRMSE\": \"NRMSE_pupil\"})\n",
        "gsr_df = gsr_valence.rename(columns={\"NRMSE\": \"NRMSE_gsr\"})\n",
        "fusion_df = fusion_valence.rename(columns={\"NRMSE\": \"NRMSE_fusion\"})\n",
        "\n",
        "# Drop Modality column\n",
        "pupil_df = pupil_df.drop(columns=[\"Modality\"])\n",
        "gsr_df = gsr_df.drop(columns=[\"Modality\"])\n",
        "fusion_df = fusion_df.drop(columns=[\"Modality\"])\n",
        "\n",
        "# Merge all three on Participant and Video\n",
        "merged_df = pupil_df.merge(gsr_df, on=[\"Participant\", \"Video\"]).merge(fusion_df, on=[\"Participant\", \"Video\"])"
      ]
    },
    {
      "cell_type": "code",
      "execution_count": null,
      "metadata": {
        "id": "C5nPWRHJMgoA"
      },
      "outputs": [],
      "source": [
        "# Comparison of pupil vs gsr\n",
        "merged_df[\"pupil_better_than_gsr\"] = merged_df[\"NRMSE_pupil\"] < merged_df[\"NRMSE_gsr\"]\n",
        "merged_df[\"gsr_better_than_pupil\"] = merged_df[\"NRMSE_gsr\"] < merged_df[\"NRMSE_pupil\"]\n",
        "\n",
        "# Fusion vs pupil\n",
        "merged_df[\"fusion_better_than_pupil\"] = merged_df[\"NRMSE_fusion\"] < merged_df[\"NRMSE_pupil\"]\n",
        "merged_df[\"fusion_equal_to_pupil\"] = np.isclose(merged_df[\"NRMSE_fusion\"], merged_df[\"NRMSE_pupil\"])\n",
        "merged_df[\"fusion_worse_than_pupil\"] = merged_df[\"NRMSE_fusion\"] > merged_df[\"NRMSE_pupil\"]\n",
        "\n",
        "# Fusion vs gsr\n",
        "merged_df[\"fusion_better_than_gsr\"] = merged_df[\"NRMSE_fusion\"] < merged_df[\"NRMSE_gsr\"]\n",
        "merged_df[\"fusion_equal_to_gsr\"] = np.isclose(merged_df[\"NRMSE_fusion\"], merged_df[\"NRMSE_gsr\"])\n",
        "merged_df[\"fusion_worse_than_gsr\"] = merged_df[\"NRMSE_fusion\"] > merged_df[\"NRMSE_gsr\"]"
      ]
    },
    {
      "cell_type": "code",
      "execution_count": null,
      "metadata": {
        "id": "W2vLtAFSEa-2"
      },
      "outputs": [],
      "source": [
        "summary = {\n",
        "    \"pupil_better_than_gsr\": merged_df[\"pupil_better_than_gsr\"].sum(),\n",
        "    \"gsr_better_than_pupil\": merged_df[\"gsr_better_than_pupil\"].sum(),\n",
        "    \"fusion_better_than_pupil\": merged_df[\"fusion_better_than_pupil\"].sum(),\n",
        "    \"fusion_equal_to_pupil\": merged_df[\"fusion_equal_to_pupil\"].sum(),\n",
        "    \"fusion_worse_than_pupil\": merged_df[\"fusion_worse_than_pupil\"].sum(),\n",
        "    \"fusion_better_than_gsr\": merged_df[\"fusion_better_than_gsr\"].sum(),\n",
        "    \"fusion_equal_to_gsr\": merged_df[\"fusion_equal_to_gsr\"].sum(),\n",
        "    \"fusion_worse_than_gsr\": merged_df[\"fusion_worse_than_gsr\"].sum(),\n",
        "}"
      ]
    },
    {
      "cell_type": "code",
      "execution_count": null,
      "metadata": {
        "colab": {
          "base_uri": "https://localhost:8080/"
        },
        "id": "OUyc1_fPMji3",
        "outputId": "8768026d-981c-4d85-b080-0b3240419f60"
      },
      "outputs": [
        {
          "name": "stdout",
          "output_type": "stream",
          "text": [
            "------VALENCE------\n",
            "\n",
            "Out of 1719 subject-video combinations:\n",
            "\n",
            "pupil_better_than_gsr: 698\n",
            "gsr_better_than_pupil: 1021\n",
            "fusion_better_than_pupil: 1026\n",
            "fusion_equal_to_pupil: 0\n",
            "fusion_worse_than_pupil: 693\n",
            "fusion_better_than_gsr: 863\n",
            "fusion_equal_to_gsr: 0\n",
            "fusion_worse_than_gsr: 856\n"
          ]
        }
      ],
      "source": [
        "print(\"------VALENCE------\\n\")\n",
        "print(f'Out of {len(fusion_valence)} subject-video combinations:\\n')\n",
        "for k, v in summary.items():\n",
        "    print(f\"{k}: {v}\")"
      ]
    },
    {
      "cell_type": "markdown",
      "metadata": {
        "id": "TrPXKUmnX4zD"
      },
      "source": [
        "We want to save which subject-video combinatios for the counts above."
      ]
    },
    {
      "cell_type": "code",
      "execution_count": null,
      "metadata": {
        "id": "0wN-mA94B8LR"
      },
      "outputs": [],
      "source": [
        "# Define the directories\n",
        "home_directory = r\"/content/drive/MyDrive/Data-Multimotion\"\n",
        "output_dir = os.path.join(home_directory, \"comparison_results\", \"valence\")\n",
        "os.makedirs(output_dir, exist_ok=True)\n",
        "\n",
        "# Save the specific cases for each condition\n",
        "conditions = [\n",
        "    \"pupil_better_than_gsr\",\n",
        "    \"gsr_better_than_pupil\",\n",
        "    \"fusion_better_than_pupil\",\n",
        "    \"fusion_equal_to_pupil\",\n",
        "    \"fusion_worse_than_pupil\",\n",
        "    \"fusion_better_than_gsr\",\n",
        "    \"fusion_equal_to_gsr\",\n",
        "    \"fusion_worse_than_gsr\"\n",
        "]\n",
        "\n",
        "for cond in conditions:\n",
        "    subset = merged_df.loc[merged_df[cond], [\"Participant\", \"Video\", \"NRMSE_pupil\", \"NRMSE_gsr\", \"NRMSE_fusion\"]]\n",
        "    subset.to_csv(os.path.join(output_dir, f\"{cond}.csv\"), index=False)\n",
        "\n",
        "# Summary dictionary\n",
        "summary = {cond: merged_df[cond].sum() for cond in conditions}\n",
        "\n",
        "# Save summary CSV\n",
        "pd.DataFrame.from_dict(summary, orient=\"index\", columns=[\"count\"]).to_csv(os.path.join(output_dir, \"summary.csv\"))\n"
      ]
    }
  ],
  "metadata": {
    "colab": {
      "provenance": []
    },
    "kernelspec": {
      "display_name": "Python 3",
      "name": "python3"
    },
    "language_info": {
      "name": "python"
    }
  },
  "nbformat": 4,
  "nbformat_minor": 0
}
